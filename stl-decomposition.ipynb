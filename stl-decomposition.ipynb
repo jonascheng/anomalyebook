{
 "cells": [
  {
   "cell_type": "markdown",
   "id": "3b1008c9",
   "metadata": {},
   "source": [
    "# STL Decomposition in Time Series Analysis\n",
    "\n",
    "This notebook demonstrates how to perform STL (Seasonal and Trend decomposition using Loess) decomposition on a time series dataset. STL decomposition is a powerful tool for understanding the underlying components of a time series, including seasonal patterns, trends, and residuals."
   ]
  },
  {
   "cell_type": "markdown",
   "id": "4f9683f1",
   "metadata": {},
   "source": [
    "## 1. Import Required Libraries\n",
    "\n",
    "We will import pandas, matplotlib, and statsmodels libraries for data manipulation, visualization, and STL decomposition."
   ]
  },
  {
   "cell_type": "code",
   "execution_count": null,
   "id": "0fe13638",
   "metadata": {},
   "outputs": [],
   "source": [
    "# Import Required Libraries\n",
    "import pandas as pd\n",
    "import matplotlib.pyplot as plt\n",
    "from statsmodels.tsa.seasonal import STL\n",
    "import statsmodels.api as sm"
   ]
  },
  {
   "cell_type": "markdown",
   "id": "ab92ecfa",
   "metadata": {},
   "source": [
    "## 2. Load and Explore the Dataset\n",
    "\n",
    "We will use the `AirPassengers` dataset, which contains monthly totals of international airline passengers from 1949 to 1960. The dataset will be loaded, and the time column will be set as the index. Let's display the first few rows to understand its structure."
   ]
  },
  {
   "cell_type": "code",
   "execution_count": null,
   "id": "c795ff81",
   "metadata": {},
   "outputs": [],
   "source": [
    "# Load the AirPassengers dataset\n",
    "# https://vincentarelbundock.github.io/Rdatasets/articles/data.html\n",
    "data = sm.datasets.get_rdataset(\"AirPassengers\", \"datasets\").data\n",
    "\n",
    "# Add a time column and set it as the index\n",
    "data['time'] = pd.date_range(start='1949-01', periods=len(data), freq='ME')\n",
    "data.set_index('time', inplace=True)\n",
    "\n",
    "# Display the first few rows of the dataset\n",
    "data.head()"
   ]
  },
  {
   "cell_type": "markdown",
   "id": "f1e249ed",
   "metadata": {},
   "source": [
    "## 3. Perform STL Decomposition\n",
    "\n",
    "We will use the STL class from statsmodels to decompose the time series into three components:\n",
    "- **Seasonal**: Captures repeating patterns or cycles in the data.\n",
    "- **Trend**: Captures the long-term progression of the series.\n",
    "- **Residual**: Captures the remaining variation after removing the seasonal and trend components."
   ]
  },
  {
   "cell_type": "code",
   "execution_count": null,
   "id": "e0c83451",
   "metadata": {},
   "outputs": [],
   "source": [
    "# Perform STL decomposition\n",
    "stl = STL(data['value'], seasonal=13)\n",
    "result = stl.fit()"
   ]
  },
  {
   "cell_type": "markdown",
   "id": "1d149c7b",
   "metadata": {},
   "source": [
    "The `seasonal=13` parameter in the STL decomposition specifies the length of the seasonal cycle in the data. Here's why it is set to 13 in this use case and how to determine it for other cases:\n",
    "\n",
    "### **Why `seasonal=13` for AirPassengers?**\n",
    "1. **Monthly Data**: The AirPassengers dataset contains monthly data over several years.\n",
    "2. **Yearly Seasonality**: The dataset exhibits a clear yearly seasonal pattern, meaning the data repeats its cycle every 12 months.\n",
    "3. **Odd Window Size**: STL requires an odd number for the seasonal smoothing window. Since 12 (the number of months in a year) is even, we use 13 as the closest odd number to capture the yearly seasonality.\n",
    "\n",
    "### **How to Determine the Seasonal Value for Other Use Cases**\n",
    "1. **Understand the Data Frequency**:\n",
    "   - If the data is **daily**, consider whether there are weekly, monthly, or yearly patterns.\n",
    "   - If the data is **hourly**, consider daily or weekly cycles.\n",
    "   - If the data is **monthly**, look for yearly patterns.\n",
    "\n",
    "2. **Identify the Seasonal Cycle**:\n",
    "   - Look for repeating patterns in the data. For example:\n",
    "     - Weekly patterns in daily data → `seasonal=7`.\n",
    "     - Yearly patterns in monthly data → `seasonal=13` (or another odd number close to 12).\n",
    "   - Use domain knowledge or exploratory data analysis (e.g., visualizing the data) to identify cycles.\n",
    "\n",
    "3. **Choose an Odd Number**:\n",
    "   - STL requires an odd number for the seasonal smoothing window. If the cycle length is even, choose the nearest odd number.\n",
    "\n",
    "4. **Experiment and Validate**:\n",
    "   - If unsure, try different values for the `seasonal` parameter and evaluate the decomposition results. Look for smooth seasonal and trend components with minimal residual noise.\n",
    "\n",
    "### **Example Adjustments**:\n",
    "- **Daily Data with Weekly Seasonality**: Use `seasonal=7`.\n",
    "- **Hourly Data with Daily Seasonality**: Use `seasonal=25` (close to 24 hours).\n",
    "- **Quarterly Data with Yearly Seasonality**: Use `seasonal=5` (close to 4 quarters).\n",
    "\n",
    "By understanding the data's frequency and patterns, you can determine the appropriate `seasonal` value for STL decomposition."
   ]
  },
  {
   "cell_type": "markdown",
   "id": "ca6651b8",
   "metadata": {},
   "source": [
    "## 4. Seasonal Component\n",
    "\n",
    "The seasonal component represents the repeating patterns or cycles in the data. Let's extract and visualize the seasonal component."
   ]
  },
  {
   "cell_type": "code",
   "execution_count": null,
   "id": "79dc4d06",
   "metadata": {},
   "outputs": [],
   "source": [
    "# Extract and visualize the seasonal component\n",
    "plt.figure(figsize=(10, 6))\n",
    "plt.plot(result.seasonal, label='Seasonal Component', color='blue')\n",
    "plt.title('Seasonal Component of AirPassengers Data')\n",
    "plt.xlabel('Time')\n",
    "plt.ylabel('Seasonal Value')\n",
    "plt.legend()\n",
    "plt.show()"
   ]
  },
  {
   "cell_type": "markdown",
   "id": "f8203dc2",
   "metadata": {},
   "source": [
    "## High / Low Seasons\n",
    "\n",
    "The seasonal component from STL decomposition can help identify high and low seasons or months in the data. Here's how you can analyze the seasonal component to determine these periods:\n",
    "\n",
    "Steps to Identify High and Low Seasons:\n",
    "\n",
    "1. Extract the Seasonal Component: The seasonal component represents the repeating patterns in the data. Peaks in the seasonal component indicate high seasons, while troughs indicate low seasons.\n",
    "\n",
    "2. Find the Maximum and Minimum Values: Identify the months or periods corresponding to the highest and lowest values in the seasonal component.\n",
    "\n",
    "3. Visualize the Seasonal Component: Use a line plot to observe the repeating patterns and visually identify high and low seasons.\n",
    "\n",
    "4. Highlight High and Low Seasons: Annotate the plot or create a table to explicitly mark the high and low periods."
   ]
  },
  {
   "cell_type": "code",
   "execution_count": null,
   "id": "efbf4e45",
   "metadata": {},
   "outputs": [],
   "source": [
    "# Extract the seasonal component\n",
    "seasonal = result.seasonal\n",
    "\n",
    "# Find the months with the highest and lowest seasonal values\n",
    "high_season = seasonal.idxmax()\n",
    "low_season = seasonal.idxmin()\n",
    "\n",
    "print(f\"High season occurs in: {high_season}\")\n",
    "print(f\"Low season occurs in: {low_season}\")\n",
    "\n",
    "# Visualize the seasonal component with annotations\n",
    "plt.figure(figsize=(10, 6))\n",
    "plt.plot(seasonal, label='Seasonal Component', color='blue')\n",
    "plt.axvline(high_season, color='green', linestyle='--', label='High Season')\n",
    "plt.axvline(low_season, color='red', linestyle='--', label='Low Season')\n",
    "plt.title('Seasonal Component with High and Low Seasons Highlighted')\n",
    "plt.xlabel('Time')\n",
    "plt.ylabel('Seasonal Value')\n",
    "plt.legend()\n",
    "plt.show()"
   ]
  },
  {
   "cell_type": "markdown",
   "id": "fbe6b68a",
   "metadata": {},
   "source": [
    "## 5. Trend Component\n",
    "\n",
    "The trend component represents the long-term progression of the time series. Let's extract and visualize the trend component."
   ]
  },
  {
   "cell_type": "code",
   "execution_count": null,
   "id": "5aa75463",
   "metadata": {},
   "outputs": [],
   "source": [
    "# Extract and visualize the trend component\n",
    "plt.figure(figsize=(10, 6))\n",
    "plt.plot(result.trend, label='Trend Component', color='green')\n",
    "plt.title('Trend Component of AirPassengers Data')\n",
    "plt.xlabel('Time')\n",
    "plt.ylabel('Trend Value')\n",
    "plt.legend()\n",
    "plt.show()"
   ]
  },
  {
   "cell_type": "markdown",
   "id": "2b71981b",
   "metadata": {},
   "source": [
    "## 6. Residual Component\n",
    "\n",
    "The residual component represents the remaining variation in the data after removing the seasonal and trend components. Let's extract and visualize the residual component."
   ]
  },
  {
   "cell_type": "code",
   "execution_count": null,
   "id": "136c15ca",
   "metadata": {},
   "outputs": [],
   "source": [
    "# Extract and visualize the residual component\n",
    "plt.figure(figsize=(10, 6))\n",
    "plt.scatter(result.resid.index, result.resid, label='Residual Component', color='red')\n",
    "plt.title('Residual Component of AirPassengers Data')\n",
    "plt.xlabel('Time')\n",
    "plt.ylabel('Residual Value')\n",
    "plt.legend()\n",
    "plt.show()"
   ]
  },
  {
   "cell_type": "markdown",
   "id": "a081af8e",
   "metadata": {},
   "source": [
    "## 7. Visualize the Decomposition\n",
    "\n",
    "The STL result provides a built-in method to visualize all components (seasonal, trend, and residual) together. Let's use this method to get an overview of the decomposition."
   ]
  },
  {
   "cell_type": "code",
   "execution_count": null,
   "id": "67d130f5",
   "metadata": {},
   "outputs": [],
   "source": [
    "# Visualize all components together\n",
    "result.plot()\n",
    "plt.show()"
   ]
  },
  {
   "cell_type": "markdown",
   "id": "7ed7c818",
   "metadata": {},
   "source": [
    "## 8. Analyze the Components\n",
    "\n",
    "### Seasonal Component\n",
    "The seasonal component reveals repeating patterns in the data, such as monthly or yearly cycles. For the AirPassengers dataset, we observe a clear yearly seasonality, with peaks and troughs corresponding to specific months.\n",
    "\n",
    "### Trend Component\n",
    "The trend component shows a steady increase in the number of passengers over time, indicating a growing trend in international airline travel during the observed period.\n",
    "\n",
    "### Residual Component\n",
    "The residual component captures the random noise or unexplained variation in the data. Analyzing the residuals can help identify anomalies or irregularities in the time series.\n",
    "\n",
    "### Implications\n",
    "STL decomposition is a valuable tool for time series analysis, as it allows us to isolate and study individual components. This can be particularly useful for forecasting, anomaly detection, and understanding the underlying dynamics of the data."
   ]
  }
 ],
 "metadata": {
  "kernelspec": {
   "display_name": "Python 3 (ipykernel)",
   "language": "python",
   "name": "python3"
  },
  "language_info": {
   "codemirror_mode": {
    "name": "ipython",
    "version": 3
   },
   "file_extension": ".py",
   "mimetype": "text/x-python",
   "name": "python",
   "nbconvert_exporter": "python",
   "pygments_lexer": "ipython3",
   "version": "3.11.11"
  }
 },
 "nbformat": 4,
 "nbformat_minor": 5
}

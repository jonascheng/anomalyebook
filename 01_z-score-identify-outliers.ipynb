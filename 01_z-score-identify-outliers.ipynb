{
 "cells": [
  {
   "cell_type": "markdown",
   "id": "f8848338",
   "metadata": {},
   "source": [
    "We will:\n",
    "- Import required libraries\n",
    "- Create and visualize a sample dataset\n",
    "- Identify outliers using Z-score method\n",
    "- Identify outliers using IQR method\n",
    "- Identify outliers using DBSCAN clustering\n",
    "- Compare outlier detection methods\n",
    "\n",
    "**References:**\n",
    "- [scikit-learn DBSCAN documentation](https://scikit-learn.org/stable/modules/generated/sklearn.cluster.DBSCAN.html)\n"
   ]
  },
  {
   "cell_type": "markdown",
   "id": "c682882f",
   "metadata": {},
   "source": [
    "# Outlier Detection Methods in Numeric Datasets\n",
    "\n",
    "This notebook demonstrates multiple methods for identifying outliers in a dataset using Z-score, IQR and DBSCAN."
   ]
  },
  {
   "cell_type": "markdown",
   "id": "08755b95",
   "metadata": {},
   "source": [
    "## 1. Import Required Libraries\n",
    "\n",
    "We will import NumPy, pandas, matplotlib, and scikit-learn libraries needed for data manipulation, visualization, and clustering."
   ]
  },
  {
   "cell_type": "code",
   "execution_count": 1,
   "id": "cce1e4cc",
   "metadata": {},
   "outputs": [],
   "source": [
    "# Import Required Libraries\n",
    "import numpy as np\n",
    "import pandas as pd\n",
    "import matplotlib.pyplot as plt\n",
    "from sklearn.cluster import DBSCAN"
   ]
  },
  {
   "cell_type": "markdown",
   "id": "fced364a",
   "metadata": {},
   "source": [
    "## 2. Create Sample DataFrame\n",
    "\n",
    "Let's create a pandas DataFrame with invoice IDs and corresponding amounts to be used for outlier detection."
   ]
  },
  {
   "cell_type": "code",
   "execution_count": 2,
   "id": "d6a98efb",
   "metadata": {},
   "outputs": [
    {
     "data": {
      "application/vnd.microsoft.datawrangler.viewer.v0+json": {
       "columns": [
        {
         "name": "index",
         "rawType": "int64",
         "type": "integer"
        },
        {
         "name": "Invoice ID",
         "rawType": "int64",
         "type": "integer"
        },
        {
         "name": "Amount",
         "rawType": "int64",
         "type": "integer"
        }
       ],
       "ref": "8b51f1ce-bfdb-44f6-9b2b-aa0ceb79f4b6",
       "rows": [
        [
         "0",
         "1",
         "185"
        ],
        [
         "1",
         "2",
         "188"
        ],
        [
         "2",
         "3",
         "192"
        ],
        [
         "3",
         "4",
         "191"
        ],
        [
         "4",
         "5",
         "187"
        ]
       ],
       "shape": {
        "columns": 2,
        "rows": 5
       }
      },
      "text/html": [
       "<div>\n",
       "<style scoped>\n",
       "    .dataframe tbody tr th:only-of-type {\n",
       "        vertical-align: middle;\n",
       "    }\n",
       "\n",
       "    .dataframe tbody tr th {\n",
       "        vertical-align: top;\n",
       "    }\n",
       "\n",
       "    .dataframe thead th {\n",
       "        text-align: right;\n",
       "    }\n",
       "</style>\n",
       "<table border=\"1\" class=\"dataframe\">\n",
       "  <thead>\n",
       "    <tr style=\"text-align: right;\">\n",
       "      <th></th>\n",
       "      <th>Invoice ID</th>\n",
       "      <th>Amount</th>\n",
       "    </tr>\n",
       "  </thead>\n",
       "  <tbody>\n",
       "    <tr>\n",
       "      <th>0</th>\n",
       "      <td>1</td>\n",
       "      <td>185</td>\n",
       "    </tr>\n",
       "    <tr>\n",
       "      <th>1</th>\n",
       "      <td>2</td>\n",
       "      <td>188</td>\n",
       "    </tr>\n",
       "    <tr>\n",
       "      <th>2</th>\n",
       "      <td>3</td>\n",
       "      <td>192</td>\n",
       "    </tr>\n",
       "    <tr>\n",
       "      <th>3</th>\n",
       "      <td>4</td>\n",
       "      <td>191</td>\n",
       "    </tr>\n",
       "    <tr>\n",
       "      <th>4</th>\n",
       "      <td>5</td>\n",
       "      <td>187</td>\n",
       "    </tr>\n",
       "  </tbody>\n",
       "</table>\n",
       "</div>"
      ],
      "text/plain": [
       "   Invoice ID  Amount\n",
       "0           1     185\n",
       "1           2     188\n",
       "2           3     192\n",
       "3           4     191\n",
       "4           5     187"
      ]
     },
     "execution_count": 2,
     "metadata": {},
     "output_type": "execute_result"
    }
   ],
   "source": [
    "# Create the DataFrame\n",
    "data = {\n",
    "    'Invoice ID': [1, 2, 3, 4, 5, 6, 7, 8, 9, 10, 11, 12, 13, 14, 15, 16, 17, 18, 19, 20],\n",
    "    'Amount': [185, 188, 192, 191, 187, 190, 194, 195, 1, 189, 120, 450, 189, 190, 193, 191, 187, 188, 186, 189]\n",
    "}\n",
    "df = pd.DataFrame(data)\n",
    "df.head()"
   ]
  },
  {
   "cell_type": "markdown",
   "id": "eb3805e0",
   "metadata": {},
   "source": [
    "Let's visualize these data points for better understanding."
   ]
  },
  {
   "cell_type": "code",
   "execution_count": 3,
   "id": "02fcb2b8",
   "metadata": {},
   "outputs": [
    {
     "data": {
      "image/png": "[encoded data removed]",
      "text/plain": [
       "<Figure size 1000x600 with 1 Axes>"
      ]
     },
     "metadata": {},
     "output_type": "display_data"
    }
   ],
   "source": [
    "# Create a scatter plot\n",
    "plt.figure(figsize=(10, 6))\n",
    "plt.scatter(df['Invoice ID'], df['Amount'])\n",
    "plt.title('Invoice Amounts')\n",
    "plt.xlabel('Invoice ID')\n",
    "plt.ylabel('Amount')\n",
    "plt.show()\n"
   ]
  },
  {
   "cell_type": "markdown",
   "id": "6f27a0d1",
   "metadata": {},
   "source": [
    "## 3. Identify Outliers Using Z-Score Method\n",
    "\n",
    "We will calculate the mean and standard deviation of the 'Amount' column, compute Z-scores, and flag data points as outliers based on a threshold.\n",
    "A z-score threshold is a value used to identify outliers in a dataset. Common thresholds are typically around ±2 or ±3 standard deviations from the mean. \n",
    "Values beyond these thresholds are considered unusual or potentially outliers. "
   ]
  },
  {
   "cell_type": "markdown",
   "id": "7a61c6ff",
   "metadata": {},
   "source": [
    "### What is the Z-Score Method?\n",
    "The Z-Score method is a statistical technique used to identify outliers in a dataset. It measures how many standard deviations a data point is from the mean. The Z-Score for a value $\\ x $ is calculated as:\n",
    "$$\n",
    "Z = \\frac{x - \\mu}{\\sigma}\n",
    "$$\n",
    "where:\n",
    "- $\\ x $ is the data point,\n",
    "- $\\ \\mu $ is the mean of the dataset,\n",
    "- $\\ \\sigma $ is the standard deviation.\n",
    "\n",
    "**When to use:**\n",
    "- The Z-Score method is best for data that is approximately normally distributed.\n",
    "- Common thresholds are ±2 or ±3; points beyond these are considered outliers.\n",
    "\n",
    "Let's apply the Z-Score method to our data."
   ]
  },
  {
   "cell_type": "code",
   "execution_count": 4,
   "id": "9403df5f",
   "metadata": {},
   "outputs": [
    {
     "data": {
      "application/vnd.microsoft.datawrangler.viewer.v0+json": {
       "columns": [
        {
         "name": "index",
         "rawType": "int64",
         "type": "integer"
        },
        {
         "name": "Invoice ID",
         "rawType": "int64",
         "type": "integer"
        },
        {
         "name": "Amount",
         "rawType": "int64",
         "type": "integer"
        },
        {
         "name": "Z-Score",
         "rawType": "float64",
         "type": "float"
        },
        {
         "name": "Z-Score Outlier",
         "rawType": "bool",
         "type": "boolean"
        }
       ],
       "ref": "13e50447-bd66-4506-8722-f8db7e9184b8",
       "rows": [
        [
         "0",
         "1",
         "185",
         "-0.06453609263767006",
         "False"
        ],
        [
         "1",
         "2",
         "188",
         "-0.023776455182299497",
         "False"
        ],
        [
         "2",
         "3",
         "192",
         "0.030569728091527925",
         "False"
        ],
        [
         "3",
         "4",
         "191",
         "0.01698318227307107",
         "False"
        ],
        [
         "4",
         "5",
         "187",
         "-0.03736300100075635",
         "False"
        ],
        [
         "5",
         "6",
         "190",
         "0.0033966364546142136",
         "False"
        ],
        [
         "6",
         "7",
         "194",
         "0.057742819728441634",
         "False"
        ],
        [
         "7",
         "8",
         "195",
         "0.07132936554689849",
         "False"
        ],
        [
         "8",
         "9",
         "1",
         "-2.5644605232337314",
         "True"
        ],
        [
         "9",
         "10",
         "189",
         "-0.01018990936384264",
         "False"
        ],
        [
         "10",
         "11",
         "120",
         "-0.9476615708373656",
         "False"
        ],
        [
         "11",
         "12",
         "450",
         "3.5358985492533965",
         "True"
        ],
        [
         "12",
         "13",
         "189",
         "-0.01018990936384264",
         "False"
        ],
        [
         "13",
         "14",
         "190",
         "0.0033966364546142136",
         "False"
        ],
        [
         "14",
         "15",
         "193",
         "0.04415627390998478",
         "False"
        ],
        [
         "15",
         "16",
         "191",
         "0.01698318227307107",
         "False"
        ],
        [
         "16",
         "17",
         "187",
         "-0.03736300100075635",
         "False"
        ],
        [
         "17",
         "18",
         "188",
         "-0.023776455182299497",
         "False"
        ],
        [
         "18",
         "19",
         "186",
         "-0.0509495468192132",
         "False"
        ],
        [
         "19",
         "20",
         "189",
         "-0.01018990936384264",
         "False"
        ]
       ],
       "shape": {
        "columns": 4,
        "rows": 20
       }
      },
      "text/html": [
       "<div>\n",
       "<style scoped>\n",
       "    .dataframe tbody tr th:only-of-type {\n",
       "        vertical-align: middle;\n",
       "    }\n",
       "\n",
       "    .dataframe tbody tr th {\n",
       "        vertical-align: top;\n",
       "    }\n",
       "\n",
       "    .dataframe thead th {\n",
       "        text-align: right;\n",
       "    }\n",
       "</style>\n",
       "<table border=\"1\" class=\"dataframe\">\n",
       "  <thead>\n",
       "    <tr style=\"text-align: right;\">\n",
       "      <th></th>\n",
       "      <th>Invoice ID</th>\n",
       "      <th>Amount</th>\n",
       "      <th>Z-Score</th>\n",
       "      <th>Z-Score Outlier</th>\n",
       "    </tr>\n",
       "  </thead>\n",
       "  <tbody>\n",
       "    <tr>\n",
       "      <th>0</th>\n",
       "      <td>1</td>\n",
       "      <td>185</td>\n",
       "      <td>-0.064536</td>\n",
       "      <td>False</td>\n",
       "    </tr>\n",
       "    <tr>\n",
       "      <th>1</th>\n",
       "      <td>2</td>\n",
       "      <td>188</td>\n",
       "      <td>-0.023776</td>\n",
       "      <td>False</td>\n",
       "    </tr>\n",
       "    <tr>\n",
       "      <th>2</th>\n",
       "      <td>3</td>\n",
       "      <td>192</td>\n",
       "      <td>0.030570</td>\n",
       "      <td>False</td>\n",
       "    </tr>\n",
       "    <tr>\n",
       "      <th>3</th>\n",
       "      <td>4</td>\n",
       "      <td>191</td>\n",
       "      <td>0.016983</td>\n",
       "      <td>False</td>\n",
       "    </tr>\n",
       "    <tr>\n",
       "      <th>4</th>\n",
       "      <td>5</td>\n",
       "      <td>187</td>\n",
       "      <td>-0.037363</td>\n",
       "      <td>False</td>\n",
       "    </tr>\n",
       "    <tr>\n",
       "      <th>5</th>\n",
       "      <td>6</td>\n",
       "      <td>190</td>\n",
       "      <td>0.003397</td>\n",
       "      <td>False</td>\n",
       "    </tr>\n",
       "    <tr>\n",
       "      <th>6</th>\n",
       "      <td>7</td>\n",
       "      <td>194</td>\n",
       "      <td>0.057743</td>\n",
       "      <td>False</td>\n",
       "    </tr>\n",
       "    <tr>\n",
       "      <th>7</th>\n",
       "      <td>8</td>\n",
       "      <td>195</td>\n",
       "      <td>0.071329</td>\n",
       "      <td>False</td>\n",
       "    </tr>\n",
       "    <tr>\n",
       "      <th>8</th>\n",
       "      <td>9</td>\n",
       "      <td>1</td>\n",
       "      <td>-2.564461</td>\n",
       "      <td>True</td>\n",
       "    </tr>\n",
       "    <tr>\n",
       "      <th>9</th>\n",
       "      <td>10</td>\n",
       "      <td>189</td>\n",
       "      <td>-0.010190</td>\n",
       "      <td>False</td>\n",
       "    </tr>\n",
       "    <tr>\n",
       "      <th>10</th>\n",
       "      <td>11</td>\n",
       "      <td>120</td>\n",
       "      <td>-0.947662</td>\n",
       "      <td>False</td>\n",
       "    </tr>\n",
       "    <tr>\n",
       "      <th>11</th>\n",
       "      <td>12</td>\n",
       "      <td>450</td>\n",
       "      <td>3.535899</td>\n",
       "      <td>True</td>\n",
       "    </tr>\n",
       "    <tr>\n",
       "      <th>12</th>\n",
       "      <td>13</td>\n",
       "      <td>189</td>\n",
       "      <td>-0.010190</td>\n",
       "      <td>False</td>\n",
       "    </tr>\n",
       "    <tr>\n",
       "      <th>13</th>\n",
       "      <td>14</td>\n",
       "      <td>190</td>\n",
       "      <td>0.003397</td>\n",
       "      <td>False</td>\n",
       "    </tr>\n",
       "    <tr>\n",
       "      <th>14</th>\n",
       "      <td>15</td>\n",
       "      <td>193</td>\n",
       "      <td>0.044156</td>\n",
       "      <td>False</td>\n",
       "    </tr>\n",
       "    <tr>\n",
       "      <th>15</th>\n",
       "      <td>16</td>\n",
       "      <td>191</td>\n",
       "      <td>0.016983</td>\n",
       "      <td>False</td>\n",
       "    </tr>\n",
       "    <tr>\n",
       "      <th>16</th>\n",
       "      <td>17</td>\n",
       "      <td>187</td>\n",
       "      <td>-0.037363</td>\n",
       "      <td>False</td>\n",
       "    </tr>\n",
       "    <tr>\n",
       "      <th>17</th>\n",
       "      <td>18</td>\n",
       "      <td>188</td>\n",
       "      <td>-0.023776</td>\n",
       "      <td>False</td>\n",
       "    </tr>\n",
       "    <tr>\n",
       "      <th>18</th>\n",
       "      <td>19</td>\n",
       "      <td>186</td>\n",
       "      <td>-0.050950</td>\n",
       "      <td>False</td>\n",
       "    </tr>\n",
       "    <tr>\n",
       "      <th>19</th>\n",
       "      <td>20</td>\n",
       "      <td>189</td>\n",
       "      <td>-0.010190</td>\n",
       "      <td>False</td>\n",
       "    </tr>\n",
       "  </tbody>\n",
       "</table>\n",
       "</div>"
      ],
      "text/plain": [
       "    Invoice ID  Amount   Z-Score  Z-Score Outlier\n",
       "0            1     185 -0.064536            False\n",
       "1            2     188 -0.023776            False\n",
       "2            3     192  0.030570            False\n",
       "3            4     191  0.016983            False\n",
       "4            5     187 -0.037363            False\n",
       "5            6     190  0.003397            False\n",
       "6            7     194  0.057743            False\n",
       "7            8     195  0.071329            False\n",
       "8            9       1 -2.564461             True\n",
       "9           10     189 -0.010190            False\n",
       "10          11     120 -0.947662            False\n",
       "11          12     450  3.535899             True\n",
       "12          13     189 -0.010190            False\n",
       "13          14     190  0.003397            False\n",
       "14          15     193  0.044156            False\n",
       "15          16     191  0.016983            False\n",
       "16          17     187 -0.037363            False\n",
       "17          18     188 -0.023776            False\n",
       "18          19     186 -0.050950            False\n",
       "19          20     189 -0.010190            False"
      ]
     },
     "execution_count": 4,
     "metadata": {},
     "output_type": "execute_result"
    }
   ],
   "source": [
    "# Calculate the mean and standard deviation\n",
    "mean = np.mean(df['Amount'])\n",
    "std_dev = np.std(df['Amount'])\n",
    "\n",
    "# Calculate the Z-score for each data point\n",
    "df['Z-Score'] = (df['Amount'] - mean) / std_dev\n",
    "\n",
    "# Define a threshold for identifying outliers\n",
    "threshold = 2\n",
    "\n",
    "# Identify outliers\n",
    "df['Z-Score Outlier'] = np.abs(df['Z-Score']) > threshold\n",
    "\n",
    "# Display the results\n",
    "df[['Invoice ID', 'Amount', 'Z-Score', 'Z-Score Outlier']]"
   ]
  },
  {
   "cell_type": "markdown",
   "id": "bddf7b89",
   "metadata": {},
   "source": [
    "#### Interpreting Z-Score Results\n",
    "- Data points with a Z-Score greater than the threshold (e.g., |Z| > 2) are considered outliers.\n",
    "- In the table above, the 'Z-Score Outlier' column marks these points as True.\n",
    "- Outliers may indicate errors, rare events, or interesting anomalies depending on the context.\n",
    "\n",
    "Let's visualize these outliers for better understanding."
   ]
  },
  {
   "cell_type": "code",
   "execution_count": 5,
   "id": "816ef863",
   "metadata": {},
   "outputs": [
    {
     "data": {
      "image/png": "[encoded data removed]",
      "text/plain": [
       "<Figure size 1000x600 with 1 Axes>"
      ]
     },
     "metadata": {},
     "output_type": "display_data"
    }
   ],
   "source": [
    "# Create a scatter plot, highlighting outliers\n",
    "plt.figure(figsize=(10, 6))\n",
    "# Color points: red for outliers, blue for normal\n",
    "colors = df['Z-Score Outlier'].map({True: 'red', False: 'blue'})\n",
    "plt.scatter(df['Invoice ID'], df['Amount'], c=colors, label='Data Points')\n",
    "plt.title('Invoice Amounts with Outliers Highlighted (Z-Score Method)')\n",
    "plt.xlabel('Invoice ID')\n",
    "plt.ylabel('Amount')\n",
    "plt.axhline(y=mean + threshold * std_dev, color='r', linestyle='--', label='Upper Threshold')\n",
    "plt.axhline(y=mean - threshold * std_dev, color='g', linestyle='--', label='Lower Threshold')\n",
    "plt.legend(['Data Points', 'Upper Threshold', 'Lower Threshold'])\n",
    "# Add annotation for outliers\n",
    "for i, row in df[df['Z-Score Outlier']].iterrows():\n",
    "    plt.annotate('Outlier', (row['Invoice ID'], row['Amount']), textcoords=\"offset points\", xytext=(0,10), ha='center', color='red')\n",
    "plt.show()"
   ]
  },
  {
   "cell_type": "markdown",
   "id": "909c81fb",
   "metadata": {},
   "source": [
    "## 4. Identify Outliers Using IQR Method\n",
    "\n",
    "We will compute the first and third quartiles (Q1, Q3), calculate the interquartile range (IQR), and identify outliers outside the lower and upper bounds."
   ]
  },
  {
   "cell_type": "markdown",
   "id": "3f8f42da",
   "metadata": {},
   "source": [
    "### What is the IQR Method?\n",
    "The Interquartile Range (IQR) method is a robust technique for detecting outliers based on the spread of the middle 50% of the data.\n",
    "\n",
    "- **Q1 (25th percentile):** The value below which 25% of the data fall.\n",
    "- **Q3 (75th percentile):** The value below which 75% of the data fall.\n",
    "- **IQR:** The difference between Q3 and Q1: $$ IQR = Q3 - Q1 $$\n",
    "- **Outlier bounds:**\n",
    "    - Lower bound: $$ Q1 - 1.5 \\times IQR $$\n",
    "    - Upper bound: $$ Q3 + 1.5 \\times IQR $$\n",
    "- Data points outside these bounds are considered outliers.\n",
    "\n",
    "**When to use:**\n",
    "- The IQR method is effective for skewed or non-normal data and is less sensitive to extreme values than the Z-Score method.\n",
    "\n",
    "Let's apply the IQR method to our data."
   ]
  },
  {
   "cell_type": "code",
   "execution_count": 6,
   "id": "4ed99da8",
   "metadata": {},
   "outputs": [
    {
     "data": {
      "application/vnd.microsoft.datawrangler.viewer.v0+json": {
       "columns": [
        {
         "name": "index",
         "rawType": "int64",
         "type": "integer"
        },
        {
         "name": "Invoice ID",
         "rawType": "int64",
         "type": "integer"
        },
        {
         "name": "Amount",
         "rawType": "int64",
         "type": "integer"
        },
        {
         "name": "IQR Outlier",
         "rawType": "bool",
         "type": "boolean"
        }
       ],
       "ref": "1ae75604-7bb9-4ace-b397-02c0a7d7edc3",
       "rows": [
        [
         "0",
         "1",
         "185",
         "False"
        ],
        [
         "1",
         "2",
         "188",
         "False"
        ],
        [
         "2",
         "3",
         "192",
         "False"
        ],
        [
         "3",
         "4",
         "191",
         "False"
        ],
        [
         "4",
         "5",
         "187",
         "False"
        ],
        [
         "5",
         "6",
         "190",
         "False"
        ],
        [
         "6",
         "7",
         "194",
         "False"
        ],
        [
         "7",
         "8",
         "195",
         "False"
        ],
        [
         "8",
         "9",
         "1",
         "True"
        ],
        [
         "9",
         "10",
         "189",
         "False"
        ],
        [
         "10",
         "11",
         "120",
         "True"
        ],
        [
         "11",
         "12",
         "450",
         "True"
        ],
        [
         "12",
         "13",
         "189",
         "False"
        ],
        [
         "13",
         "14",
         "190",
         "False"
        ],
        [
         "14",
         "15",
         "193",
         "False"
        ],
        [
         "15",
         "16",
         "191",
         "False"
        ],
        [
         "16",
         "17",
         "187",
         "False"
        ],
        [
         "17",
         "18",
         "188",
         "False"
        ],
        [
         "18",
         "19",
         "186",
         "False"
        ],
        [
         "19",
         "20",
         "189",
         "False"
        ]
       ],
       "shape": {
        "columns": 3,
        "rows": 20
       }
      },
      "text/html": [
       "<div>\n",
       "<style scoped>\n",
       "    .dataframe tbody tr th:only-of-type {\n",
       "        vertical-align: middle;\n",
       "    }\n",
       "\n",
       "    .dataframe tbody tr th {\n",
       "        vertical-align: top;\n",
       "    }\n",
       "\n",
       "    .dataframe thead th {\n",
       "        text-align: right;\n",
       "    }\n",
       "</style>\n",
       "<table border=\"1\" class=\"dataframe\">\n",
       "  <thead>\n",
       "    <tr style=\"text-align: right;\">\n",
       "      <th></th>\n",
       "      <th>Invoice ID</th>\n",
       "      <th>Amount</th>\n",
       "      <th>IQR Outlier</th>\n",
       "    </tr>\n",
       "  </thead>\n",
       "  <tbody>\n",
       "    <tr>\n",
       "      <th>0</th>\n",
       "      <td>1</td>\n",
       "      <td>185</td>\n",
       "      <td>False</td>\n",
       "    </tr>\n",
       "    <tr>\n",
       "      <th>1</th>\n",
       "      <td>2</td>\n",
       "      <td>188</td>\n",
       "      <td>False</td>\n",
       "    </tr>\n",
       "    <tr>\n",
       "      <th>2</th>\n",
       "      <td>3</td>\n",
       "      <td>192</td>\n",
       "      <td>False</td>\n",
       "    </tr>\n",
       "    <tr>\n",
       "      <th>3</th>\n",
       "      <td>4</td>\n",
       "      <td>191</td>\n",
       "      <td>False</td>\n",
       "    </tr>\n",
       "    <tr>\n",
       "      <th>4</th>\n",
       "      <td>5</td>\n",
       "      <td>187</td>\n",
       "      <td>False</td>\n",
       "    </tr>\n",
       "    <tr>\n",
       "      <th>5</th>\n",
       "      <td>6</td>\n",
       "      <td>190</td>\n",
       "      <td>False</td>\n",
       "    </tr>\n",
       "    <tr>\n",
       "      <th>6</th>\n",
       "      <td>7</td>\n",
       "      <td>194</td>\n",
       "      <td>False</td>\n",
       "    </tr>\n",
       "    <tr>\n",
       "      <th>7</th>\n",
       "      <td>8</td>\n",
       "      <td>195</td>\n",
       "      <td>False</td>\n",
       "    </tr>\n",
       "    <tr>\n",
       "      <th>8</th>\n",
       "      <td>9</td>\n",
       "      <td>1</td>\n",
       "      <td>True</td>\n",
       "    </tr>\n",
       "    <tr>\n",
       "      <th>9</th>\n",
       "      <td>10</td>\n",
       "      <td>189</td>\n",
       "      <td>False</td>\n",
       "    </tr>\n",
       "    <tr>\n",
       "      <th>10</th>\n",
       "      <td>11</td>\n",
       "      <td>120</td>\n",
       "      <td>True</td>\n",
       "    </tr>\n",
       "    <tr>\n",
       "      <th>11</th>\n",
       "      <td>12</td>\n",
       "      <td>450</td>\n",
       "      <td>True</td>\n",
       "    </tr>\n",
       "    <tr>\n",
       "      <th>12</th>\n",
       "      <td>13</td>\n",
       "      <td>189</td>\n",
       "      <td>False</td>\n",
       "    </tr>\n",
       "    <tr>\n",
       "      <th>13</th>\n",
       "      <td>14</td>\n",
       "      <td>190</td>\n",
       "      <td>False</td>\n",
       "    </tr>\n",
       "    <tr>\n",
       "      <th>14</th>\n",
       "      <td>15</td>\n",
       "      <td>193</td>\n",
       "      <td>False</td>\n",
       "    </tr>\n",
       "    <tr>\n",
       "      <th>15</th>\n",
       "      <td>16</td>\n",
       "      <td>191</td>\n",
       "      <td>False</td>\n",
       "    </tr>\n",
       "    <tr>\n",
       "      <th>16</th>\n",
       "      <td>17</td>\n",
       "      <td>187</td>\n",
       "      <td>False</td>\n",
       "    </tr>\n",
       "    <tr>\n",
       "      <th>17</th>\n",
       "      <td>18</td>\n",
       "      <td>188</td>\n",
       "      <td>False</td>\n",
       "    </tr>\n",
       "    <tr>\n",
       "      <th>18</th>\n",
       "      <td>19</td>\n",
       "      <td>186</td>\n",
       "      <td>False</td>\n",
       "    </tr>\n",
       "    <tr>\n",
       "      <th>19</th>\n",
       "      <td>20</td>\n",
       "      <td>189</td>\n",
       "      <td>False</td>\n",
       "    </tr>\n",
       "  </tbody>\n",
       "</table>\n",
       "</div>"
      ],
      "text/plain": [
       "    Invoice ID  Amount  IQR Outlier\n",
       "0            1     185        False\n",
       "1            2     188        False\n",
       "2            3     192        False\n",
       "3            4     191        False\n",
       "4            5     187        False\n",
       "5            6     190        False\n",
       "6            7     194        False\n",
       "7            8     195        False\n",
       "8            9       1         True\n",
       "9           10     189        False\n",
       "10          11     120         True\n",
       "11          12     450         True\n",
       "12          13     189        False\n",
       "13          14     190        False\n",
       "14          15     193        False\n",
       "15          16     191        False\n",
       "16          17     187        False\n",
       "17          18     188        False\n",
       "18          19     186        False\n",
       "19          20     189        False"
      ]
     },
     "execution_count": 6,
     "metadata": {},
     "output_type": "execute_result"
    }
   ],
   "source": [
    "# Calculate Q1 (25th percentile) and Q3 (75th percentile)\n",
    "Q1 = df['Amount'].quantile(0.25)\n",
    "Q3 = df['Amount'].quantile(0.75)\n",
    "\n",
    "# Calculate the IQR\n",
    "IQR = Q3 - Q1\n",
    "\n",
    "# Define the lower and upper bounds\n",
    "lower_bound = Q1 - 1.5 * IQR\n",
    "upper_bound = Q3 + 1.5 * IQR\n",
    "\n",
    "# Identify outliers\n",
    "df['IQR Outlier'] = (df['Amount'] < lower_bound) | (df['Amount'] > upper_bound)\n",
    "\n",
    "# Display the results\n",
    "df[['Invoice ID', 'Amount', 'IQR Outlier']]"
   ]
  },
  {
   "cell_type": "markdown",
   "id": "61c98633",
   "metadata": {},
   "source": [
    "#### Interpreting IQR Results\n",
    "- Data points outside the lower and upper bounds are flagged as outliers in the 'IQR Outlier' column.\n",
    "- These outliers may represent rare events, errors, or interesting anomalies.\n",
    "\n",
    "Let's visualize the IQR outliers for better understanding."
   ]
  },
  {
   "cell_type": "code",
   "execution_count": 7,
   "id": "031bb964",
   "metadata": {},
   "outputs": [
    {
     "data": {
      "image/png": "[encoded data removed]",
      "text/plain": [
       "<Figure size 1000x600 with 1 Axes>"
      ]
     },
     "metadata": {},
     "output_type": "display_data"
    }
   ],
   "source": [
    "# Create a scatter plot, highlighting outliers by IQR method\n",
    "plt.figure(figsize=(10, 6))\n",
    "# Color points: red for outliers, blue for normal\n",
    "colors = df['IQR Outlier'].map({True: 'red', False: 'blue'})\n",
    "plt.scatter(df['Invoice ID'], df['Amount'], c=colors, label='Data Points')\n",
    "plt.title('Invoice Amounts with Outliers Highlighted (IQR Method)')\n",
    "plt.xlabel('Invoice ID')\n",
    "plt.ylabel('Amount')\n",
    "plt.axhline(y=upper_bound, color='r', linestyle='--', label='Upper Bound')\n",
    "plt.axhline(y=lower_bound, color='g', linestyle='--', label='Lower Bound')\n",
    "plt.legend(['Data Points', 'Upper Bound', 'Lower Bound'])\n",
    "# Add annotation for outliers\n",
    "for i, row in df[df['IQR Outlier']].iterrows():\n",
    "    plt.annotate('Outlier', (row['Invoice ID'], row['Amount']), textcoords=\"offset points\", xytext=(0,10), ha='center', color='red')\n",
    "plt.show()"
   ]
  },
  {
   "cell_type": "markdown",
   "id": "e799a7fd",
   "metadata": {},
   "source": [
    "## 5. Identify Outliers Using DBSCAN\n",
    "\n",
    "We will apply the DBSCAN clustering algorithm to the 'Amount' data and label points as outliers based on the clustering results (DBSCAN labels outliers as -1)."
   ]
  },
  {
   "cell_type": "markdown",
   "id": "feba2ef3",
   "metadata": {},
   "source": [
    "### What is the DBSCAN Method?\n",
    "DBSCAN (Density-Based Spatial Clustering of Applications with Noise) is a clustering algorithm that groups together points that are closely packed and labels points that lie alone in low-density regions as outliers (noise).\n",
    "- **Key parameters:**\n",
    "    - `eps`: Maximum distance between two samples for them to be considered as in the same neighborhood.\n",
    "    - `min_samples`: Minimum number of samples in a neighborhood for a point to be considered a core point.\n",
    "- **How it works:**\n",
    "    - Points in dense regions form clusters.\n",
    "    - Points that do not belong to any cluster (labeled as -1) are considered outliers.\n",
    "\n",
    "**When to use:**\n",
    "- DBSCAN is useful for detecting outliers in data with clusters of similar density and does not require the data to be normally distributed.\n",
    "- It can find arbitrarily shaped clusters and is robust to noise.\n",
    "\n",
    "Let's apply DBSCAN to our data."
   ]
  },
  {
   "cell_type": "code",
   "execution_count": 8,
   "id": "e65a0090",
   "metadata": {},
   "outputs": [
    {
     "data": {
      "application/vnd.microsoft.datawrangler.viewer.v0+json": {
       "columns": [
        {
         "name": "index",
         "rawType": "int64",
         "type": "integer"
        },
        {
         "name": "Invoice ID",
         "rawType": "int64",
         "type": "integer"
        },
        {
         "name": "Amount",
         "rawType": "int64",
         "type": "integer"
        },
        {
         "name": "DBSCAN_Label",
         "rawType": "int64",
         "type": "integer"
        },
        {
         "name": "DBSCAN Outlier",
         "rawType": "bool",
         "type": "boolean"
        }
       ],
       "ref": "ed594742-1193-4176-877d-4ce015f8688c",
       "rows": [
        [
         "0",
         "1",
         "185",
         "0",
         "False"
        ],
        [
         "1",
         "2",
         "188",
         "0",
         "False"
        ],
        [
         "2",
         "3",
         "192",
         "0",
         "False"
        ],
        [
         "3",
         "4",
         "191",
         "0",
         "False"
        ],
        [
         "4",
         "5",
         "187",
         "0",
         "False"
        ],
        [
         "5",
         "6",
         "190",
         "0",
         "False"
        ],
        [
         "6",
         "7",
         "194",
         "0",
         "False"
        ],
        [
         "7",
         "8",
         "195",
         "0",
         "False"
        ],
        [
         "8",
         "9",
         "1",
         "-1",
         "True"
        ],
        [
         "9",
         "10",
         "189",
         "0",
         "False"
        ],
        [
         "10",
         "11",
         "120",
         "-1",
         "True"
        ],
        [
         "11",
         "12",
         "450",
         "-1",
         "True"
        ],
        [
         "12",
         "13",
         "189",
         "0",
         "False"
        ],
        [
         "13",
         "14",
         "190",
         "0",
         "False"
        ],
        [
         "14",
         "15",
         "193",
         "0",
         "False"
        ],
        [
         "15",
         "16",
         "191",
         "0",
         "False"
        ],
        [
         "16",
         "17",
         "187",
         "0",
         "False"
        ],
        [
         "17",
         "18",
         "188",
         "0",
         "False"
        ],
        [
         "18",
         "19",
         "186",
         "0",
         "False"
        ],
        [
         "19",
         "20",
         "189",
         "0",
         "False"
        ]
       ],
       "shape": {
        "columns": 4,
        "rows": 20
       }
      },
      "text/html": [
       "<div>\n",
       "<style scoped>\n",
       "    .dataframe tbody tr th:only-of-type {\n",
       "        vertical-align: middle;\n",
       "    }\n",
       "\n",
       "    .dataframe tbody tr th {\n",
       "        vertical-align: top;\n",
       "    }\n",
       "\n",
       "    .dataframe thead th {\n",
       "        text-align: right;\n",
       "    }\n",
       "</style>\n",
       "<table border=\"1\" class=\"dataframe\">\n",
       "  <thead>\n",
       "    <tr style=\"text-align: right;\">\n",
       "      <th></th>\n",
       "      <th>Invoice ID</th>\n",
       "      <th>Amount</th>\n",
       "      <th>DBSCAN_Label</th>\n",
       "      <th>DBSCAN Outlier</th>\n",
       "    </tr>\n",
       "  </thead>\n",
       "  <tbody>\n",
       "    <tr>\n",
       "      <th>0</th>\n",
       "      <td>1</td>\n",
       "      <td>185</td>\n",
       "      <td>0</td>\n",
       "      <td>False</td>\n",
       "    </tr>\n",
       "    <tr>\n",
       "      <th>1</th>\n",
       "      <td>2</td>\n",
       "      <td>188</td>\n",
       "      <td>0</td>\n",
       "      <td>False</td>\n",
       "    </tr>\n",
       "    <tr>\n",
       "      <th>2</th>\n",
       "      <td>3</td>\n",
       "      <td>192</td>\n",
       "      <td>0</td>\n",
       "      <td>False</td>\n",
       "    </tr>\n",
       "    <tr>\n",
       "      <th>3</th>\n",
       "      <td>4</td>\n",
       "      <td>191</td>\n",
       "      <td>0</td>\n",
       "      <td>False</td>\n",
       "    </tr>\n",
       "    <tr>\n",
       "      <th>4</th>\n",
       "      <td>5</td>\n",
       "      <td>187</td>\n",
       "      <td>0</td>\n",
       "      <td>False</td>\n",
       "    </tr>\n",
       "    <tr>\n",
       "      <th>5</th>\n",
       "      <td>6</td>\n",
       "      <td>190</td>\n",
       "      <td>0</td>\n",
       "      <td>False</td>\n",
       "    </tr>\n",
       "    <tr>\n",
       "      <th>6</th>\n",
       "      <td>7</td>\n",
       "      <td>194</td>\n",
       "      <td>0</td>\n",
       "      <td>False</td>\n",
       "    </tr>\n",
       "    <tr>\n",
       "      <th>7</th>\n",
       "      <td>8</td>\n",
       "      <td>195</td>\n",
       "      <td>0</td>\n",
       "      <td>False</td>\n",
       "    </tr>\n",
       "    <tr>\n",
       "      <th>8</th>\n",
       "      <td>9</td>\n",
       "      <td>1</td>\n",
       "      <td>-1</td>\n",
       "      <td>True</td>\n",
       "    </tr>\n",
       "    <tr>\n",
       "      <th>9</th>\n",
       "      <td>10</td>\n",
       "      <td>189</td>\n",
       "      <td>0</td>\n",
       "      <td>False</td>\n",
       "    </tr>\n",
       "    <tr>\n",
       "      <th>10</th>\n",
       "      <td>11</td>\n",
       "      <td>120</td>\n",
       "      <td>-1</td>\n",
       "      <td>True</td>\n",
       "    </tr>\n",
       "    <tr>\n",
       "      <th>11</th>\n",
       "      <td>12</td>\n",
       "      <td>450</td>\n",
       "      <td>-1</td>\n",
       "      <td>True</td>\n",
       "    </tr>\n",
       "    <tr>\n",
       "      <th>12</th>\n",
       "      <td>13</td>\n",
       "      <td>189</td>\n",
       "      <td>0</td>\n",
       "      <td>False</td>\n",
       "    </tr>\n",
       "    <tr>\n",
       "      <th>13</th>\n",
       "      <td>14</td>\n",
       "      <td>190</td>\n",
       "      <td>0</td>\n",
       "      <td>False</td>\n",
       "    </tr>\n",
       "    <tr>\n",
       "      <th>14</th>\n",
       "      <td>15</td>\n",
       "      <td>193</td>\n",
       "      <td>0</td>\n",
       "      <td>False</td>\n",
       "    </tr>\n",
       "    <tr>\n",
       "      <th>15</th>\n",
       "      <td>16</td>\n",
       "      <td>191</td>\n",
       "      <td>0</td>\n",
       "      <td>False</td>\n",
       "    </tr>\n",
       "    <tr>\n",
       "      <th>16</th>\n",
       "      <td>17</td>\n",
       "      <td>187</td>\n",
       "      <td>0</td>\n",
       "      <td>False</td>\n",
       "    </tr>\n",
       "    <tr>\n",
       "      <th>17</th>\n",
       "      <td>18</td>\n",
       "      <td>188</td>\n",
       "      <td>0</td>\n",
       "      <td>False</td>\n",
       "    </tr>\n",
       "    <tr>\n",
       "      <th>18</th>\n",
       "      <td>19</td>\n",
       "      <td>186</td>\n",
       "      <td>0</td>\n",
       "      <td>False</td>\n",
       "    </tr>\n",
       "    <tr>\n",
       "      <th>19</th>\n",
       "      <td>20</td>\n",
       "      <td>189</td>\n",
       "      <td>0</td>\n",
       "      <td>False</td>\n",
       "    </tr>\n",
       "  </tbody>\n",
       "</table>\n",
       "</div>"
      ],
      "text/plain": [
       "    Invoice ID  Amount  DBSCAN_Label  DBSCAN Outlier\n",
       "0            1     185             0           False\n",
       "1            2     188             0           False\n",
       "2            3     192             0           False\n",
       "3            4     191             0           False\n",
       "4            5     187             0           False\n",
       "5            6     190             0           False\n",
       "6            7     194             0           False\n",
       "7            8     195             0           False\n",
       "8            9       1            -1            True\n",
       "9           10     189             0           False\n",
       "10          11     120            -1            True\n",
       "11          12     450            -1            True\n",
       "12          13     189             0           False\n",
       "13          14     190             0           False\n",
       "14          15     193             0           False\n",
       "15          16     191             0           False\n",
       "16          17     187             0           False\n",
       "17          18     188             0           False\n",
       "18          19     186             0           False\n",
       "19          20     189             0           False"
      ]
     },
     "execution_count": 8,
     "metadata": {},
     "output_type": "execute_result"
    }
   ],
   "source": [
    "# Reshape the 'Amount' column to be a 2D array\n",
    "X = df['Amount'].values.reshape(-1, 1)\n",
    "\n",
    "# Apply DBSCAN\n",
    "dbscan = DBSCAN(eps=10, min_samples=3)\n",
    "dbscan.fit(X)\n",
    "\n",
    "# Add the DBSCAN labels to the DataFrame\n",
    "df['DBSCAN_Label'] = dbscan.labels_\n",
    "\n",
    "# Identify outliers (DBSCAN labels outliers as -1)\n",
    "df['DBSCAN Outlier'] = df['DBSCAN_Label'] == -1\n",
    "\n",
    "# Display the results\n",
    "df[['Invoice ID', 'Amount', 'DBSCAN_Label', 'DBSCAN Outlier']]"
   ]
  },
  {
   "cell_type": "markdown",
   "id": "30fa6a26",
   "metadata": {},
   "source": [
    "#### Interpreting DBSCAN Results\n",
    "- Points labeled as -1 by DBSCAN are considered outliers (noise).\n",
    "- The 'DBSCAN Outlier' column in the table above marks these points as True.\n",
    "- DBSCAN is especially useful when the data contains clusters and noise, and does not assume any distribution.\n",
    "\n",
    "Let's visualize the DBSCAN outliers for better understanding."
   ]
  },
  {
   "cell_type": "code",
   "execution_count": 9,
   "id": "56e15037",
   "metadata": {},
   "outputs": [
    {
     "data": {
      "image/png": "[encoded data removed]",
      "text/plain": [
       "<Figure size 1000x600 with 1 Axes>"
      ]
     },
     "metadata": {},
     "output_type": "display_data"
    }
   ],
   "source": [
    "# Create a scatter plot to visualize the outliers identified by DBSCAN.\n",
    "plt.figure(figsize=(10, 6))\n",
    "# Assign colors: outliers (-1) in red, clusters in blue/other colors\n",
    "colors = df['DBSCAN_Label'].map(lambda x: 'red' if x == -1 else 'blue')\n",
    "plt.scatter(df['Invoice ID'], df['Amount'], c=colors, label='Clustered Points')\n",
    "plt.title('DBSCAN Clustering of Invoice Amounts (Outliers in Red)')\n",
    "plt.xlabel('Invoice ID')\n",
    "plt.ylabel('Amount')\n",
    "# Annotate outliers\n",
    "for i, row in df[df['DBSCAN Outlier']].iterrows():\n",
    "    plt.annotate('Outlier', (row['Invoice ID'], row['Amount']), textcoords=\"offset points\", xytext=(0,10), ha='center', color='red')\n",
    "plt.legend(['Clustered Points'])\n",
    "plt.show()"
   ]
  },
  {
   "cell_type": "markdown",
   "id": "f26b25e7",
   "metadata": {},
   "source": [
    "## 8. Comparing Outlier Detection Methods\n",
    "- **Z-Score:** Best for normally distributed data; sensitive to extreme values.\n",
    "- **IQR:** Robust to skewed data and outliers; does not assume any distribution.\n",
    "- **DBSCAN:** Useful for clustered data and can detect noise/outliers without distribution assumptions.\n",
    "\n",
    "**Choosing a method:**\n",
    "- Use Z-Score for symmetric, bell-shaped data.\n",
    "- Use IQR for skewed or non-normal data.\n",
    "- Use DBSCAN when data may have clusters or you want to detect noise points.\n",
    "\n",
    "Always visualize and interpret outliers in the context of your domain before making decisions!"
   ]
  }
 ],
 "metadata": {
  "kernelspec": {
   "display_name": "Python 3 (ipykernel)",
   "language": "python",
   "name": "python3"
  }
 },
 "nbformat": 4,
 "nbformat_minor": 5
}

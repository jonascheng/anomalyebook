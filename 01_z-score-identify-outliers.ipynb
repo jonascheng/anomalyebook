{
 "cells": [
  {
   "cell_type": "markdown",
   "id": "f8848338",
   "metadata": {},
   "source": [
    "# 數值型資料的離群值偵測方法\n",
    "\n",
    "本教學將示範如何使用 Z 分數法 (Z-Score)、IQR 法與 DBSCAN 分群法來偵測資料集中的離群值。\n",
    "\n",
    "我們將會：\n",
    "- 匯入所需的程式庫\n",
    "- 建立並視覺化範例資料集\n",
    "- 使用 Z 分數法偵測離群值\n",
    "- 使用 IQR 法偵測離群值\n",
    "- 使用 DBSCAN 分群法偵測離群值\n",
    "- 比較各種離群值偵測方法\n",
    "\n",
    "**參考資料：**\n",
    "\n",
    "- [scikit-learn DBSCAN 官方文件](https://scikit-learn.org/stable/modules/generated/sklearn.cluster.DBSCAN.html)"
   ]
  },
  {
   "cell_type": "markdown",
   "id": "08755b95",
   "metadata": {},
   "source": [
    "## 1. 匯入所需程式庫\n",
    "\n",
    "我們將匯入 NumPy、pandas、matplotlib 及 scikit-learn 這些常用的資料處理、視覺化與分群分析套件。"
   ]
  },
  {
   "cell_type": "code",
   "execution_count": 13,
   "id": "cce1e4cc",
   "metadata": {},
   "outputs": [],
   "source": [
    "# 匯入所需程式庫\n",
    "import numpy as np\n",
    "import pandas as pd\n",
    "import matplotlib.pyplot as plt\n",
    "from sklearn.cluster import DBSCAN"
   ]
  },
  {
   "cell_type": "markdown",
   "id": "fced364a",
   "metadata": {},
   "source": [
    "## 2. 建立範例資料集\n",
    "\n",
    "我們將建立一個 pandas DataFrame，包含發票編號與金額，作為離群值偵測的範例資料。"
   ]
  },
  {
   "cell_type": "code",
   "execution_count": 14,
   "id": "d6a98efb",
   "metadata": {},
   "outputs": [
    {
     "data": {
      "application/vnd.microsoft.datawrangler.viewer.v0+json": {
       "columns": [
        {
         "name": "index",
         "rawType": "int64",
         "type": "integer"
        },
        {
         "name": "Invoice ID",
         "rawType": "int64",
         "type": "integer"
        },
        {
         "name": "Amount",
         "rawType": "int64",
         "type": "integer"
        }
       ],
       "ref": "6dac5192-588d-486c-975b-7a05562479da",
       "rows": [
        [
         "0",
         "1",
         "185"
        ],
        [
         "1",
         "2",
         "188"
        ],
        [
         "2",
         "3",
         "192"
        ],
        [
         "3",
         "4",
         "191"
        ],
        [
         "4",
         "5",
         "187"
        ]
       ],
       "shape": {
        "columns": 2,
        "rows": 5
       }
      },
      "text/html": [
       "<div>\n",
       "<style scoped>\n",
       "    .dataframe tbody tr th:only-of-type {\n",
       "        vertical-align: middle;\n",
       "    }\n",
       "\n",
       "    .dataframe tbody tr th {\n",
       "        vertical-align: top;\n",
       "    }\n",
       "\n",
       "    .dataframe thead th {\n",
       "        text-align: right;\n",
       "    }\n",
       "</style>\n",
       "<table border=\"1\" class=\"dataframe\">\n",
       "  <thead>\n",
       "    <tr style=\"text-align: right;\">\n",
       "      <th></th>\n",
       "      <th>Invoice ID</th>\n",
       "      <th>Amount</th>\n",
       "    </tr>\n",
       "  </thead>\n",
       "  <tbody>\n",
       "    <tr>\n",
       "      <th>0</th>\n",
       "      <td>1</td>\n",
       "      <td>185</td>\n",
       "    </tr>\n",
       "    <tr>\n",
       "      <th>1</th>\n",
       "      <td>2</td>\n",
       "      <td>188</td>\n",
       "    </tr>\n",
       "    <tr>\n",
       "      <th>2</th>\n",
       "      <td>3</td>\n",
       "      <td>192</td>\n",
       "    </tr>\n",
       "    <tr>\n",
       "      <th>3</th>\n",
       "      <td>4</td>\n",
       "      <td>191</td>\n",
       "    </tr>\n",
       "    <tr>\n",
       "      <th>4</th>\n",
       "      <td>5</td>\n",
       "      <td>187</td>\n",
       "    </tr>\n",
       "  </tbody>\n",
       "</table>\n",
       "</div>"
      ],
      "text/plain": [
       "   Invoice ID  Amount\n",
       "0           1     185\n",
       "1           2     188\n",
       "2           3     192\n",
       "3           4     191\n",
       "4           5     187"
      ]
     },
     "execution_count": 14,
     "metadata": {},
     "output_type": "execute_result"
    }
   ],
   "source": [
    "# 建立範例資料集\n",
    "data = {\n",
    "    'Invoice ID': [1, 2, 3, 4, 5, 6, 7, 8, 9, 10, 11, 12, 13, 14, 15, 16, 17, 18, 19, 20],\n",
    "    'Amount': [185, 188, 192, 191, 187, 190, 194, 195, 1, 189, 120, 450, 189, 190, 193, 191, 187, 188, 186, 189]\n",
    "}\n",
    "\n",
    "df = pd.DataFrame(data)\n",
    "df.head()"
   ]
  },
  {
   "cell_type": "markdown",
   "id": "eb3805e0",
   "metadata": {},
   "source": [
    "讓我們先將這些資料點視覺化，方便理解。"
   ]
  },
  {
   "cell_type": "code",
   "execution_count": 15,
   "id": "02fcb2b8",
   "metadata": {},
   "outputs": [
    {
     "data": {
      "image/png": "[encoded data removed]",
      "text/plain": [
       "<Figure size 1000x600 with 1 Axes>"
      ]
     },
     "metadata": {},
     "output_type": "display_data"
    }
   ],
   "source": [
    "# 繪製散佈圖\n",
    "plt.figure(figsize=(10, 6))\n",
    "plt.scatter(df['Invoice ID'], df['Amount'])\n",
    "plt.title('Invoice Amount Distribution')\n",
    "plt.xlabel('Invoice ID')\n",
    "plt.ylabel('Amount')\n",
    "plt.show()"
   ]
  },
  {
   "cell_type": "markdown",
   "id": "6f27a0d1",
   "metadata": {},
   "source": [
    "## 3. 使用 Z 分數法 (Z-Score) 偵測離群值\n",
    "\n",
    "我們將計算「金額」欄位的平均值與標準差，並計算每個資料點的 Z 分數，根據門檻值判斷是否為離群值。\n",
    "Z 分數門檻值常用 ±2 或 ±3 標準差，超過此範圍的值通常被視為離群值。"
   ]
  },
  {
   "cell_type": "markdown",
   "id": "7a61c6ff",
   "metadata": {},
   "source": [
    "### 什麼是 Z 分數法 (Z-Score)？\n",
    "\n",
    "Z 分數法是一種統計方法，用來判斷資料點是否為離群值。它衡量每個資料點距離平均值有幾個標準差。Z 分數的公式如下：\n",
    "\n",
    "$$\n",
    "\n",
    "Z = \\frac{x - \\mu}{\\sigma}\n",
    "\n",
    "$$\n",
    "\n",
    "其中：\n",
    "\n",
    "- $x$：資料點\n",
    "- $\\mu$：資料集的平均值\n",
    "- $\\sigma$：資料集的標準差\n",
    "\n",
    "**適用時機：**\n",
    "\n",
    "- Z 分數法適用於近似常態分布的資料。\n",
    "- 常用門檻值為 ±2 或 ±3，超過此範圍即視為離群值。\n",
    "\n",
    "接下來將 Z 分數法應用於本範例資料。"
   ]
  },
  {
   "cell_type": "code",
   "execution_count": 16,
   "id": "9403df5f",
   "metadata": {},
   "outputs": [
    {
     "data": {
      "application/vnd.microsoft.datawrangler.viewer.v0+json": {
       "columns": [
        {
         "name": "index",
         "rawType": "int64",
         "type": "integer"
        },
        {
         "name": "Invoice ID",
         "rawType": "int64",
         "type": "integer"
        },
        {
         "name": "Amount",
         "rawType": "int64",
         "type": "integer"
        },
        {
         "name": "Z-Score",
         "rawType": "float64",
         "type": "float"
        },
        {
         "name": "Z-Score Outlier",
         "rawType": "bool",
         "type": "boolean"
        }
       ],
       "ref": "3aa701ac-9c25-4593-8ea0-81ff3b0688e3",
       "rows": [
        [
         "0",
         "1",
         "185",
         "-0.06453609263767006",
         "False"
        ],
        [
         "1",
         "2",
         "188",
         "-0.023776455182299497",
         "False"
        ],
        [
         "2",
         "3",
         "192",
         "0.030569728091527925",
         "False"
        ],
        [
         "3",
         "4",
         "191",
         "0.01698318227307107",
         "False"
        ],
        [
         "4",
         "5",
         "187",
         "-0.03736300100075635",
         "False"
        ],
        [
         "5",
         "6",
         "190",
         "0.0033966364546142136",
         "False"
        ],
        [
         "6",
         "7",
         "194",
         "0.057742819728441634",
         "False"
        ],
        [
         "7",
         "8",
         "195",
         "0.07132936554689849",
         "False"
        ],
        [
         "8",
         "9",
         "1",
         "-2.5644605232337314",
         "True"
        ],
        [
         "9",
         "10",
         "189",
         "-0.01018990936384264",
         "False"
        ],
        [
         "10",
         "11",
         "120",
         "-0.9476615708373656",
         "False"
        ],
        [
         "11",
         "12",
         "450",
         "3.5358985492533965",
         "True"
        ],
        [
         "12",
         "13",
         "189",
         "-0.01018990936384264",
         "False"
        ],
        [
         "13",
         "14",
         "190",
         "0.0033966364546142136",
         "False"
        ],
        [
         "14",
         "15",
         "193",
         "0.04415627390998478",
         "False"
        ],
        [
         "15",
         "16",
         "191",
         "0.01698318227307107",
         "False"
        ],
        [
         "16",
         "17",
         "187",
         "-0.03736300100075635",
         "False"
        ],
        [
         "17",
         "18",
         "188",
         "-0.023776455182299497",
         "False"
        ],
        [
         "18",
         "19",
         "186",
         "-0.0509495468192132",
         "False"
        ],
        [
         "19",
         "20",
         "189",
         "-0.01018990936384264",
         "False"
        ]
       ],
       "shape": {
        "columns": 4,
        "rows": 20
       }
      },
      "text/html": [
       "<div>\n",
       "<style scoped>\n",
       "    .dataframe tbody tr th:only-of-type {\n",
       "        vertical-align: middle;\n",
       "    }\n",
       "\n",
       "    .dataframe tbody tr th {\n",
       "        vertical-align: top;\n",
       "    }\n",
       "\n",
       "    .dataframe thead th {\n",
       "        text-align: right;\n",
       "    }\n",
       "</style>\n",
       "<table border=\"1\" class=\"dataframe\">\n",
       "  <thead>\n",
       "    <tr style=\"text-align: right;\">\n",
       "      <th></th>\n",
       "      <th>Invoice ID</th>\n",
       "      <th>Amount</th>\n",
       "      <th>Z-Score</th>\n",
       "      <th>Z-Score Outlier</th>\n",
       "    </tr>\n",
       "  </thead>\n",
       "  <tbody>\n",
       "    <tr>\n",
       "      <th>0</th>\n",
       "      <td>1</td>\n",
       "      <td>185</td>\n",
       "      <td>-0.064536</td>\n",
       "      <td>False</td>\n",
       "    </tr>\n",
       "    <tr>\n",
       "      <th>1</th>\n",
       "      <td>2</td>\n",
       "      <td>188</td>\n",
       "      <td>-0.023776</td>\n",
       "      <td>False</td>\n",
       "    </tr>\n",
       "    <tr>\n",
       "      <th>2</th>\n",
       "      <td>3</td>\n",
       "      <td>192</td>\n",
       "      <td>0.030570</td>\n",
       "      <td>False</td>\n",
       "    </tr>\n",
       "    <tr>\n",
       "      <th>3</th>\n",
       "      <td>4</td>\n",
       "      <td>191</td>\n",
       "      <td>0.016983</td>\n",
       "      <td>False</td>\n",
       "    </tr>\n",
       "    <tr>\n",
       "      <th>4</th>\n",
       "      <td>5</td>\n",
       "      <td>187</td>\n",
       "      <td>-0.037363</td>\n",
       "      <td>False</td>\n",
       "    </tr>\n",
       "    <tr>\n",
       "      <th>5</th>\n",
       "      <td>6</td>\n",
       "      <td>190</td>\n",
       "      <td>0.003397</td>\n",
       "      <td>False</td>\n",
       "    </tr>\n",
       "    <tr>\n",
       "      <th>6</th>\n",
       "      <td>7</td>\n",
       "      <td>194</td>\n",
       "      <td>0.057743</td>\n",
       "      <td>False</td>\n",
       "    </tr>\n",
       "    <tr>\n",
       "      <th>7</th>\n",
       "      <td>8</td>\n",
       "      <td>195</td>\n",
       "      <td>0.071329</td>\n",
       "      <td>False</td>\n",
       "    </tr>\n",
       "    <tr>\n",
       "      <th>8</th>\n",
       "      <td>9</td>\n",
       "      <td>1</td>\n",
       "      <td>-2.564461</td>\n",
       "      <td>True</td>\n",
       "    </tr>\n",
       "    <tr>\n",
       "      <th>9</th>\n",
       "      <td>10</td>\n",
       "      <td>189</td>\n",
       "      <td>-0.010190</td>\n",
       "      <td>False</td>\n",
       "    </tr>\n",
       "    <tr>\n",
       "      <th>10</th>\n",
       "      <td>11</td>\n",
       "      <td>120</td>\n",
       "      <td>-0.947662</td>\n",
       "      <td>False</td>\n",
       "    </tr>\n",
       "    <tr>\n",
       "      <th>11</th>\n",
       "      <td>12</td>\n",
       "      <td>450</td>\n",
       "      <td>3.535899</td>\n",
       "      <td>True</td>\n",
       "    </tr>\n",
       "    <tr>\n",
       "      <th>12</th>\n",
       "      <td>13</td>\n",
       "      <td>189</td>\n",
       "      <td>-0.010190</td>\n",
       "      <td>False</td>\n",
       "    </tr>\n",
       "    <tr>\n",
       "      <th>13</th>\n",
       "      <td>14</td>\n",
       "      <td>190</td>\n",
       "      <td>0.003397</td>\n",
       "      <td>False</td>\n",
       "    </tr>\n",
       "    <tr>\n",
       "      <th>14</th>\n",
       "      <td>15</td>\n",
       "      <td>193</td>\n",
       "      <td>0.044156</td>\n",
       "      <td>False</td>\n",
       "    </tr>\n",
       "    <tr>\n",
       "      <th>15</th>\n",
       "      <td>16</td>\n",
       "      <td>191</td>\n",
       "      <td>0.016983</td>\n",
       "      <td>False</td>\n",
       "    </tr>\n",
       "    <tr>\n",
       "      <th>16</th>\n",
       "      <td>17</td>\n",
       "      <td>187</td>\n",
       "      <td>-0.037363</td>\n",
       "      <td>False</td>\n",
       "    </tr>\n",
       "    <tr>\n",
       "      <th>17</th>\n",
       "      <td>18</td>\n",
       "      <td>188</td>\n",
       "      <td>-0.023776</td>\n",
       "      <td>False</td>\n",
       "    </tr>\n",
       "    <tr>\n",
       "      <th>18</th>\n",
       "      <td>19</td>\n",
       "      <td>186</td>\n",
       "      <td>-0.050950</td>\n",
       "      <td>False</td>\n",
       "    </tr>\n",
       "    <tr>\n",
       "      <th>19</th>\n",
       "      <td>20</td>\n",
       "      <td>189</td>\n",
       "      <td>-0.010190</td>\n",
       "      <td>False</td>\n",
       "    </tr>\n",
       "  </tbody>\n",
       "</table>\n",
       "</div>"
      ],
      "text/plain": [
       "    Invoice ID  Amount   Z-Score  Z-Score Outlier\n",
       "0            1     185 -0.064536            False\n",
       "1            2     188 -0.023776            False\n",
       "2            3     192  0.030570            False\n",
       "3            4     191  0.016983            False\n",
       "4            5     187 -0.037363            False\n",
       "5            6     190  0.003397            False\n",
       "6            7     194  0.057743            False\n",
       "7            8     195  0.071329            False\n",
       "8            9       1 -2.564461             True\n",
       "9           10     189 -0.010190            False\n",
       "10          11     120 -0.947662            False\n",
       "11          12     450  3.535899             True\n",
       "12          13     189 -0.010190            False\n",
       "13          14     190  0.003397            False\n",
       "14          15     193  0.044156            False\n",
       "15          16     191  0.016983            False\n",
       "16          17     187 -0.037363            False\n",
       "17          18     188 -0.023776            False\n",
       "18          19     186 -0.050950            False\n",
       "19          20     189 -0.010190            False"
      ]
     },
     "execution_count": 16,
     "metadata": {},
     "output_type": "execute_result"
    }
   ],
   "source": [
    "# 計算平均值與標準差\n",
    "mean = np.mean(df['Amount'])\n",
    "std_dev = np.std(df['Amount'])\n",
    "\n",
    "# 計算每個資料點的 Z-Score\n",
    "df['Z-Score'] = (df['Amount'] - mean) / std_dev\n",
    "\n",
    "# 設定離群值門檻\n",
    "threshold = 2\n",
    "\n",
    "# 判斷離群值\n",
    "df['Z-Score Outlier'] = np.abs(df['Z-Score']) > threshold\n",
    "\n",
    "# 顯示結果\n",
    "df[['Invoice ID', 'Amount', 'Z-Score', 'Z-Score Outlier']]"
   ]
  },
  {
   "cell_type": "markdown",
   "id": "bddf7b89",
   "metadata": {},
   "source": [
    "#### Z 分數 (Z-Score) 結果解讀\n",
    "\n",
    "- Z 分數絕對值超過門檻（如 |Z| > 2）即視為離群值。\n",
    "- 上表中的「Z 分數離群值」欄位會標示 True 表示離群。\n",
    "- 離群值可能代表錯誤、罕見事件或有趣的異常，需依情境判斷。\n",
    "\n",
    "讓我們將這些離群值視覺化，方便理解。"
   ]
  },
  {
   "cell_type": "code",
   "execution_count": 17,
   "id": "816ef863",
   "metadata": {},
   "outputs": [
    {
     "data": {
      "image/png": "[encoded data removed]",
      "text/plain": [
       "<Figure size 1000x600 with 1 Axes>"
      ]
     },
     "metadata": {},
     "output_type": "display_data"
    }
   ],
   "source": [
    "# 繪製 Z 分數離群值散佈圖，標示離群值\n",
    "plt.figure(figsize=(10, 6))\n",
    "\n",
    "# 顏色：離群值紅色，正常值藍色\n",
    "colors = df['Z-Score Outlier'].map({True: 'red', False: 'blue'})\n",
    "\n",
    "plt.scatter(df['Invoice ID'], df['Amount'], c=colors, label='資料點')\n",
    "plt.title('Invoice Amount with Outliers Highlighted (Z-Score Method)')\n",
    "plt.xlabel('Invoice ID')\n",
    "plt.ylabel('Amount')\n",
    "plt.axhline(y=mean + threshold * std_dev, color='r', linestyle='--', label='Upper Bound')\n",
    "plt.axhline(y=mean - threshold * std_dev, color='g', linestyle='--', label='Lower Bound')\n",
    "plt.legend(['Data Points', 'Upper Bound', 'Lower Bound'])\n",
    "\n",
    "# 標註離群值\n",
    "for i, row in df[df['Z-Score Outlier']].iterrows():\n",
    "    plt.annotate('Outlier', (row['Invoice ID'], row['Amount']), textcoords=\"offset points\", xytext=(0,10), ha='center', color='red')\n",
    "\n",
    "plt.show()"
   ]
  },
  {
   "cell_type": "markdown",
   "id": "909c81fb",
   "metadata": {},
   "source": [
    "## 4. 使用 IQR 法偵測離群值\n",
    "\n",
    "我們將計算第一四分位數（Q1）與第三四分位數（Q3），再計算 IQR，並根據上下界判斷離群值。"
   ]
  },
  {
   "cell_type": "markdown",
   "id": "3f8f42da",
   "metadata": {},
   "source": [
    "### 什麼是 IQR 法？\n",
    "\n",
    "IQR（四分位距）法是一種穩健的離群值偵測方法，根據資料中間 50% 的分布範圍判斷異常值。\n",
    "\n",
    "- **Q1（第 25 百分位）：** 25% 資料點以下的值\n",
    "- **Q3（第 75 百分位）：** 75% 資料點以下的值\n",
    "- **IQR：** Q3 - Q1，公式：$$ IQR = Q3 - Q1 $$\n",
    "- **離群值界限：**\n",
    "    - 下界：$$ Q1 - 1.5 \\times IQR $$\n",
    "    - 上界：$$ Q3 + 1.5 \\times IQR $$\n",
    "- 超過此範圍的資料點即視為離群值。\n",
    "\n",
    "**適用時機：**\n",
    "\n",
    "- IQR 法適合 skewed 或 non-normally distributed 資料，且不易受極端值影響。\n",
    "\n",
    "接下來將 IQR 法應用於本範例資料。"
   ]
  },
  {
   "cell_type": "code",
   "execution_count": 18,
   "id": "4ed99da8",
   "metadata": {},
   "outputs": [
    {
     "data": {
      "application/vnd.microsoft.datawrangler.viewer.v0+json": {
       "columns": [
        {
         "name": "index",
         "rawType": "int64",
         "type": "integer"
        },
        {
         "name": "Invoice ID",
         "rawType": "int64",
         "type": "integer"
        },
        {
         "name": "Amount",
         "rawType": "int64",
         "type": "integer"
        },
        {
         "name": "IQR Outlier",
         "rawType": "bool",
         "type": "boolean"
        }
       ],
       "ref": "6ef7f98c-1173-4478-85af-2fbeef8e7f54",
       "rows": [
        [
         "0",
         "1",
         "185",
         "False"
        ],
        [
         "1",
         "2",
         "188",
         "False"
        ],
        [
         "2",
         "3",
         "192",
         "False"
        ],
        [
         "3",
         "4",
         "191",
         "False"
        ],
        [
         "4",
         "5",
         "187",
         "False"
        ],
        [
         "5",
         "6",
         "190",
         "False"
        ],
        [
         "6",
         "7",
         "194",
         "False"
        ],
        [
         "7",
         "8",
         "195",
         "False"
        ],
        [
         "8",
         "9",
         "1",
         "True"
        ],
        [
         "9",
         "10",
         "189",
         "False"
        ],
        [
         "10",
         "11",
         "120",
         "True"
        ],
        [
         "11",
         "12",
         "450",
         "True"
        ],
        [
         "12",
         "13",
         "189",
         "False"
        ],
        [
         "13",
         "14",
         "190",
         "False"
        ],
        [
         "14",
         "15",
         "193",
         "False"
        ],
        [
         "15",
         "16",
         "191",
         "False"
        ],
        [
         "16",
         "17",
         "187",
         "False"
        ],
        [
         "17",
         "18",
         "188",
         "False"
        ],
        [
         "18",
         "19",
         "186",
         "False"
        ],
        [
         "19",
         "20",
         "189",
         "False"
        ]
       ],
       "shape": {
        "columns": 3,
        "rows": 20
       }
      },
      "text/html": [
       "<div>\n",
       "<style scoped>\n",
       "    .dataframe tbody tr th:only-of-type {\n",
       "        vertical-align: middle;\n",
       "    }\n",
       "\n",
       "    .dataframe tbody tr th {\n",
       "        vertical-align: top;\n",
       "    }\n",
       "\n",
       "    .dataframe thead th {\n",
       "        text-align: right;\n",
       "    }\n",
       "</style>\n",
       "<table border=\"1\" class=\"dataframe\">\n",
       "  <thead>\n",
       "    <tr style=\"text-align: right;\">\n",
       "      <th></th>\n",
       "      <th>Invoice ID</th>\n",
       "      <th>Amount</th>\n",
       "      <th>IQR Outlier</th>\n",
       "    </tr>\n",
       "  </thead>\n",
       "  <tbody>\n",
       "    <tr>\n",
       "      <th>0</th>\n",
       "      <td>1</td>\n",
       "      <td>185</td>\n",
       "      <td>False</td>\n",
       "    </tr>\n",
       "    <tr>\n",
       "      <th>1</th>\n",
       "      <td>2</td>\n",
       "      <td>188</td>\n",
       "      <td>False</td>\n",
       "    </tr>\n",
       "    <tr>\n",
       "      <th>2</th>\n",
       "      <td>3</td>\n",
       "      <td>192</td>\n",
       "      <td>False</td>\n",
       "    </tr>\n",
       "    <tr>\n",
       "      <th>3</th>\n",
       "      <td>4</td>\n",
       "      <td>191</td>\n",
       "      <td>False</td>\n",
       "    </tr>\n",
       "    <tr>\n",
       "      <th>4</th>\n",
       "      <td>5</td>\n",
       "      <td>187</td>\n",
       "      <td>False</td>\n",
       "    </tr>\n",
       "    <tr>\n",
       "      <th>5</th>\n",
       "      <td>6</td>\n",
       "      <td>190</td>\n",
       "      <td>False</td>\n",
       "    </tr>\n",
       "    <tr>\n",
       "      <th>6</th>\n",
       "      <td>7</td>\n",
       "      <td>194</td>\n",
       "      <td>False</td>\n",
       "    </tr>\n",
       "    <tr>\n",
       "      <th>7</th>\n",
       "      <td>8</td>\n",
       "      <td>195</td>\n",
       "      <td>False</td>\n",
       "    </tr>\n",
       "    <tr>\n",
       "      <th>8</th>\n",
       "      <td>9</td>\n",
       "      <td>1</td>\n",
       "      <td>True</td>\n",
       "    </tr>\n",
       "    <tr>\n",
       "      <th>9</th>\n",
       "      <td>10</td>\n",
       "      <td>189</td>\n",
       "      <td>False</td>\n",
       "    </tr>\n",
       "    <tr>\n",
       "      <th>10</th>\n",
       "      <td>11</td>\n",
       "      <td>120</td>\n",
       "      <td>True</td>\n",
       "    </tr>\n",
       "    <tr>\n",
       "      <th>11</th>\n",
       "      <td>12</td>\n",
       "      <td>450</td>\n",
       "      <td>True</td>\n",
       "    </tr>\n",
       "    <tr>\n",
       "      <th>12</th>\n",
       "      <td>13</td>\n",
       "      <td>189</td>\n",
       "      <td>False</td>\n",
       "    </tr>\n",
       "    <tr>\n",
       "      <th>13</th>\n",
       "      <td>14</td>\n",
       "      <td>190</td>\n",
       "      <td>False</td>\n",
       "    </tr>\n",
       "    <tr>\n",
       "      <th>14</th>\n",
       "      <td>15</td>\n",
       "      <td>193</td>\n",
       "      <td>False</td>\n",
       "    </tr>\n",
       "    <tr>\n",
       "      <th>15</th>\n",
       "      <td>16</td>\n",
       "      <td>191</td>\n",
       "      <td>False</td>\n",
       "    </tr>\n",
       "    <tr>\n",
       "      <th>16</th>\n",
       "      <td>17</td>\n",
       "      <td>187</td>\n",
       "      <td>False</td>\n",
       "    </tr>\n",
       "    <tr>\n",
       "      <th>17</th>\n",
       "      <td>18</td>\n",
       "      <td>188</td>\n",
       "      <td>False</td>\n",
       "    </tr>\n",
       "    <tr>\n",
       "      <th>18</th>\n",
       "      <td>19</td>\n",
       "      <td>186</td>\n",
       "      <td>False</td>\n",
       "    </tr>\n",
       "    <tr>\n",
       "      <th>19</th>\n",
       "      <td>20</td>\n",
       "      <td>189</td>\n",
       "      <td>False</td>\n",
       "    </tr>\n",
       "  </tbody>\n",
       "</table>\n",
       "</div>"
      ],
      "text/plain": [
       "    Invoice ID  Amount  IQR Outlier\n",
       "0            1     185        False\n",
       "1            2     188        False\n",
       "2            3     192        False\n",
       "3            4     191        False\n",
       "4            5     187        False\n",
       "5            6     190        False\n",
       "6            7     194        False\n",
       "7            8     195        False\n",
       "8            9       1         True\n",
       "9           10     189        False\n",
       "10          11     120         True\n",
       "11          12     450         True\n",
       "12          13     189        False\n",
       "13          14     190        False\n",
       "14          15     193        False\n",
       "15          16     191        False\n",
       "16          17     187        False\n",
       "17          18     188        False\n",
       "18          19     186        False\n",
       "19          20     189        False"
      ]
     },
     "execution_count": 18,
     "metadata": {},
     "output_type": "execute_result"
    }
   ],
   "source": [
    "# 計算 Q1（第 25 百分位）與 Q3（第 75 百分位）\n",
    "Q1 = df['Amount'].quantile(0.25)\n",
    "Q3 = df['Amount'].quantile(0.75)\n",
    "\n",
    "# 計算 IQR\n",
    "IQR = Q3 - Q1\n",
    "\n",
    "# 設定下界與上界\n",
    "lower_bound = Q1 - 1.5 * IQR\n",
    "upper_bound = Q3 + 1.5 * IQR\n",
    "\n",
    "# 判斷離群值\n",
    "df['IQR Outlier'] = (df['Amount'] < lower_bound) | (df['Amount'] > upper_bound)\n",
    "\n",
    "# 顯示結果\n",
    "df[['Invoice ID', 'Amount', 'IQR Outlier']]"
   ]
  },
  {
   "cell_type": "markdown",
   "id": "61c98633",
   "metadata": {},
   "source": [
    "#### IQR 結果解讀\n",
    "\n",
    "- 超過上下界的資料點會在「IQR 離群值」欄位標示為 True。\n",
    "- 這些離群值可能代表罕見事件、錯誤或有趣的異常。\n",
    "\n",
    "讓我們將 IQR 離群值視覺化，方便理解。"
   ]
  },
  {
   "cell_type": "code",
   "execution_count": 19,
   "id": "031bb964",
   "metadata": {},
   "outputs": [
    {
     "data": {
      "image/png": "[encoded data removed]",
      "text/plain": [
       "<Figure size 1000x600 with 1 Axes>"
      ]
     },
     "metadata": {},
     "output_type": "display_data"
    }
   ],
   "source": [
    "# 繪製 IQR 離群值散佈圖，標示離群值\n",
    "plt.figure(figsize=(10, 6))\n",
    "\n",
    "# 顏色：離群值紅色，正常值藍色\n",
    "colors = df['IQR Outlier'].map({True: 'red', False: 'blue'})\n",
    "\n",
    "plt.scatter(df['Invoice ID'], df['Amount'], c=colors, label='資料點')\n",
    "plt.title('Invoice Amount with Outliers Highlighted (IQR Method)')\n",
    "plt.xlabel('Invoice ID')\n",
    "plt.ylabel('Amount')\n",
    "plt.axhline(y=upper_bound, color='r', linestyle='--', label='Upper Bound')\n",
    "plt.axhline(y=lower_bound, color='g', linestyle='--', label='Lower Bound')\n",
    "plt.legend(['Data Points', 'Upper Bound', 'Lower Bound'])\n",
    "\n",
    "# 標註離群值\n",
    "for i, row in df[df['IQR Outlier']].iterrows():\n",
    "    plt.annotate('Outlier', (row['Invoice ID'], row['Amount']), textcoords=\"offset points\", xytext=(0,10), ha='center', color='red')\n",
    "\n",
    "plt.show()"
   ]
  },
  {
   "cell_type": "markdown",
   "id": "e799a7fd",
   "metadata": {},
   "source": [
    "## 5. 使用 DBSCAN 分群法偵測離群值\n",
    "\n",
    "我們將對「金額」資料套用 DBSCAN 分群演算法，並根據分群結果（標記為 -1 的點）判斷離群值。"
   ]
  },
  {
   "cell_type": "markdown",
   "id": "feba2ef3",
   "metadata": {},
   "source": [
    "### 什麼是 DBSCAN 分群法？\n",
    "\n",
    "DBSCAN（基於密度的空間分群法）是一種分群演算法，能將密集區域的資料點分群，並將低密度區域的點標記為離群（噪音）。\n",
    "\n",
    "- **主要參數：**\n",
    "\n",
    "    - `eps`：兩點被視為鄰居的最大距離。\n",
    "    - `min_samples`：一個點成為核心點所需的最小鄰居數。\n",
    "\n",
    "- **運作方式：**\n",
    "\n",
    "    - 密集區域的點會形成群集。\n",
    "    - 不屬於任何群集（標記為 -1）的點即為離群值。\n",
    "\n",
    "**適用時機：**\n",
    "\n",
    "- DBSCAN 適合有群集且可能有噪音的資料，不需假設分布型態。\n",
    "- 能偵測任意形狀的群集，且對噪音具備魯棒性。\n",
    "\n",
    "接下來將 DBSCAN 應用於本範例資料。"
   ]
  },
  {
   "cell_type": "code",
   "execution_count": 20,
   "id": "e65a0090",
   "metadata": {},
   "outputs": [
    {
     "data": {
      "application/vnd.microsoft.datawrangler.viewer.v0+json": {
       "columns": [
        {
         "name": "index",
         "rawType": "int64",
         "type": "integer"
        },
        {
         "name": "Invoice ID",
         "rawType": "int64",
         "type": "integer"
        },
        {
         "name": "Amount",
         "rawType": "int64",
         "type": "integer"
        },
        {
         "name": "DBSCAN_Label",
         "rawType": "int64",
         "type": "integer"
        },
        {
         "name": "DBSCAN Outlier",
         "rawType": "bool",
         "type": "boolean"
        }
       ],
       "ref": "00d535f7-185d-4ed5-9a61-f793671e6fd4",
       "rows": [
        [
         "0",
         "1",
         "185",
         "0",
         "False"
        ],
        [
         "1",
         "2",
         "188",
         "0",
         "False"
        ],
        [
         "2",
         "3",
         "192",
         "0",
         "False"
        ],
        [
         "3",
         "4",
         "191",
         "0",
         "False"
        ],
        [
         "4",
         "5",
         "187",
         "0",
         "False"
        ],
        [
         "5",
         "6",
         "190",
         "0",
         "False"
        ],
        [
         "6",
         "7",
         "194",
         "0",
         "False"
        ],
        [
         "7",
         "8",
         "195",
         "0",
         "False"
        ],
        [
         "8",
         "9",
         "1",
         "-1",
         "True"
        ],
        [
         "9",
         "10",
         "189",
         "0",
         "False"
        ],
        [
         "10",
         "11",
         "120",
         "-1",
         "True"
        ],
        [
         "11",
         "12",
         "450",
         "-1",
         "True"
        ],
        [
         "12",
         "13",
         "189",
         "0",
         "False"
        ],
        [
         "13",
         "14",
         "190",
         "0",
         "False"
        ],
        [
         "14",
         "15",
         "193",
         "0",
         "False"
        ],
        [
         "15",
         "16",
         "191",
         "0",
         "False"
        ],
        [
         "16",
         "17",
         "187",
         "0",
         "False"
        ],
        [
         "17",
         "18",
         "188",
         "0",
         "False"
        ],
        [
         "18",
         "19",
         "186",
         "0",
         "False"
        ],
        [
         "19",
         "20",
         "189",
         "0",
         "False"
        ]
       ],
       "shape": {
        "columns": 4,
        "rows": 20
       }
      },
      "text/html": [
       "<div>\n",
       "<style scoped>\n",
       "    .dataframe tbody tr th:only-of-type {\n",
       "        vertical-align: middle;\n",
       "    }\n",
       "\n",
       "    .dataframe tbody tr th {\n",
       "        vertical-align: top;\n",
       "    }\n",
       "\n",
       "    .dataframe thead th {\n",
       "        text-align: right;\n",
       "    }\n",
       "</style>\n",
       "<table border=\"1\" class=\"dataframe\">\n",
       "  <thead>\n",
       "    <tr style=\"text-align: right;\">\n",
       "      <th></th>\n",
       "      <th>Invoice ID</th>\n",
       "      <th>Amount</th>\n",
       "      <th>DBSCAN_Label</th>\n",
       "      <th>DBSCAN Outlier</th>\n",
       "    </tr>\n",
       "  </thead>\n",
       "  <tbody>\n",
       "    <tr>\n",
       "      <th>0</th>\n",
       "      <td>1</td>\n",
       "      <td>185</td>\n",
       "      <td>0</td>\n",
       "      <td>False</td>\n",
       "    </tr>\n",
       "    <tr>\n",
       "      <th>1</th>\n",
       "      <td>2</td>\n",
       "      <td>188</td>\n",
       "      <td>0</td>\n",
       "      <td>False</td>\n",
       "    </tr>\n",
       "    <tr>\n",
       "      <th>2</th>\n",
       "      <td>3</td>\n",
       "      <td>192</td>\n",
       "      <td>0</td>\n",
       "      <td>False</td>\n",
       "    </tr>\n",
       "    <tr>\n",
       "      <th>3</th>\n",
       "      <td>4</td>\n",
       "      <td>191</td>\n",
       "      <td>0</td>\n",
       "      <td>False</td>\n",
       "    </tr>\n",
       "    <tr>\n",
       "      <th>4</th>\n",
       "      <td>5</td>\n",
       "      <td>187</td>\n",
       "      <td>0</td>\n",
       "      <td>False</td>\n",
       "    </tr>\n",
       "    <tr>\n",
       "      <th>5</th>\n",
       "      <td>6</td>\n",
       "      <td>190</td>\n",
       "      <td>0</td>\n",
       "      <td>False</td>\n",
       "    </tr>\n",
       "    <tr>\n",
       "      <th>6</th>\n",
       "      <td>7</td>\n",
       "      <td>194</td>\n",
       "      <td>0</td>\n",
       "      <td>False</td>\n",
       "    </tr>\n",
       "    <tr>\n",
       "      <th>7</th>\n",
       "      <td>8</td>\n",
       "      <td>195</td>\n",
       "      <td>0</td>\n",
       "      <td>False</td>\n",
       "    </tr>\n",
       "    <tr>\n",
       "      <th>8</th>\n",
       "      <td>9</td>\n",
       "      <td>1</td>\n",
       "      <td>-1</td>\n",
       "      <td>True</td>\n",
       "    </tr>\n",
       "    <tr>\n",
       "      <th>9</th>\n",
       "      <td>10</td>\n",
       "      <td>189</td>\n",
       "      <td>0</td>\n",
       "      <td>False</td>\n",
       "    </tr>\n",
       "    <tr>\n",
       "      <th>10</th>\n",
       "      <td>11</td>\n",
       "      <td>120</td>\n",
       "      <td>-1</td>\n",
       "      <td>True</td>\n",
       "    </tr>\n",
       "    <tr>\n",
       "      <th>11</th>\n",
       "      <td>12</td>\n",
       "      <td>450</td>\n",
       "      <td>-1</td>\n",
       "      <td>True</td>\n",
       "    </tr>\n",
       "    <tr>\n",
       "      <th>12</th>\n",
       "      <td>13</td>\n",
       "      <td>189</td>\n",
       "      <td>0</td>\n",
       "      <td>False</td>\n",
       "    </tr>\n",
       "    <tr>\n",
       "      <th>13</th>\n",
       "      <td>14</td>\n",
       "      <td>190</td>\n",
       "      <td>0</td>\n",
       "      <td>False</td>\n",
       "    </tr>\n",
       "    <tr>\n",
       "      <th>14</th>\n",
       "      <td>15</td>\n",
       "      <td>193</td>\n",
       "      <td>0</td>\n",
       "      <td>False</td>\n",
       "    </tr>\n",
       "    <tr>\n",
       "      <th>15</th>\n",
       "      <td>16</td>\n",
       "      <td>191</td>\n",
       "      <td>0</td>\n",
       "      <td>False</td>\n",
       "    </tr>\n",
       "    <tr>\n",
       "      <th>16</th>\n",
       "      <td>17</td>\n",
       "      <td>187</td>\n",
       "      <td>0</td>\n",
       "      <td>False</td>\n",
       "    </tr>\n",
       "    <tr>\n",
       "      <th>17</th>\n",
       "      <td>18</td>\n",
       "      <td>188</td>\n",
       "      <td>0</td>\n",
       "      <td>False</td>\n",
       "    </tr>\n",
       "    <tr>\n",
       "      <th>18</th>\n",
       "      <td>19</td>\n",
       "      <td>186</td>\n",
       "      <td>0</td>\n",
       "      <td>False</td>\n",
       "    </tr>\n",
       "    <tr>\n",
       "      <th>19</th>\n",
       "      <td>20</td>\n",
       "      <td>189</td>\n",
       "      <td>0</td>\n",
       "      <td>False</td>\n",
       "    </tr>\n",
       "  </tbody>\n",
       "</table>\n",
       "</div>"
      ],
      "text/plain": [
       "    Invoice ID  Amount  DBSCAN_Label  DBSCAN Outlier\n",
       "0            1     185             0           False\n",
       "1            2     188             0           False\n",
       "2            3     192             0           False\n",
       "3            4     191             0           False\n",
       "4            5     187             0           False\n",
       "5            6     190             0           False\n",
       "6            7     194             0           False\n",
       "7            8     195             0           False\n",
       "8            9       1            -1            True\n",
       "9           10     189             0           False\n",
       "10          11     120            -1            True\n",
       "11          12     450            -1            True\n",
       "12          13     189             0           False\n",
       "13          14     190             0           False\n",
       "14          15     193             0           False\n",
       "15          16     191             0           False\n",
       "16          17     187             0           False\n",
       "17          18     188             0           False\n",
       "18          19     186             0           False\n",
       "19          20     189             0           False"
      ]
     },
     "execution_count": 20,
     "metadata": {},
     "output_type": "execute_result"
    }
   ],
   "source": [
    "# 將「金額」欄位轉為二維陣列\n",
    "X = df['Amount'].values.reshape(-1, 1)\n",
    "\n",
    "# 套用 DBSCAN\n",
    "dbscan = DBSCAN(\n",
    "  eps=10, # 兩個點被視為鄰居的最大距離\n",
    "  min_samples=3 # 一個群集至少需要的樣本數量\n",
    ")\n",
    "dbscan.fit(X)\n",
    "\n",
    "# 將 DBSCAN 標籤加入 DataFrame\n",
    "df['DBSCAN_Label'] = dbscan.labels_\n",
    "\n",
    "# 判斷離群值（DBSCAN 標記為 -1）\n",
    "df['DBSCAN Outlier'] = df['DBSCAN_Label'] == -1\n",
    "\n",
    "# 顯示結果\n",
    "df[['Invoice ID', 'Amount', 'DBSCAN_Label', 'DBSCAN Outlier']]"
   ]
  },
  {
   "cell_type": "markdown",
   "id": "30fa6a26",
   "metadata": {},
   "source": [
    "#### DBSCAN 結果解讀\n",
    "\n",
    "- 被 DBSCAN 標記為 -1 的點即為離群值（噪音）。\n",
    "- 上表中的「DBSCAN 離群值」欄位會標示 True 表示離群。\n",
    "- DBSCAN 特別適合有群集且含噪音的資料，且不需假設分布型態。\n",
    "\n",
    "讓我們將 DBSCAN 離群值視覺化，方便理解。"
   ]
  },
  {
   "cell_type": "code",
   "execution_count": 21,
   "id": "56e15037",
   "metadata": {},
   "outputs": [
    {
     "data": {
      "image/png": "[encoded data removed]",
      "text/plain": [
       "<Figure size 1000x600 with 1 Axes>"
      ]
     },
     "metadata": {},
     "output_type": "display_data"
    }
   ],
   "source": [
    "# 繪製 DBSCAN 離群值散佈圖，標示離群值\n",
    "plt.figure(figsize=(10, 6))\n",
    "\n",
    "# 顏色：離群值（-1）紅色，群集點藍色\n",
    "colors = df['DBSCAN_Label'].map(lambda x: 'red' if x == -1 else 'blue')\n",
    "\n",
    "plt.scatter(df['Invoice ID'], df['Amount'], c=colors, label='群集點')\n",
    "plt.title('DBSCAN Clustering of Invoice Amounts (Outliers in Red)')\n",
    "plt.xlabel('Invoice ID')\n",
    "plt.ylabel('Amount')\n",
    "\n",
    "# 標註離群值\n",
    "for i, row in df[df['DBSCAN Outlier']].iterrows():\n",
    "    plt.annotate('Outlier', (row['Invoice ID'], row['Amount']), textcoords=\"offset points\", xytext=(0,10), ha='center', color='red')\n",
    "\n",
    "plt.legend(['Cluster Points'])\n",
    "plt.show()"
   ]
  },
  {
   "cell_type": "markdown",
   "id": "f26b25e7",
   "metadata": {},
   "source": [
    "## 8. 離群值偵測方法比較\n",
    "\n",
    "- **Z 分數法：** 適合常態分布資料，對極端值敏感。\n",
    "- **IQR 法：** 適合偏態或非常態分布資料，對離群值較不敏感。\n",
    "- **DBSCAN 分群法：** 適合有群集的資料，可偵測噪音與離群值，無需假設分布型態。\n",
    "\n",
    "**如何選擇方法：**\n",
    "\n",
    "- 資料呈現對稱、鐘型分布時可用 Z 分數法。\n",
    "- 資料偏態或非常態分布時可用 IQR 法。\n",
    "- 資料可能有群集或需偵測噪音時可用 DBSCAN。\n",
    "\n",
    "在做決策前，務必根據領域知識視覺化並解釋離群值！"
   ]
  }
 ],
 "metadata": {
  "kernelspec": {
   "display_name": "Python 3 (ipykernel)",
   "language": "python",
   "name": "python3"
  },
  "language_info": {
   "codemirror_mode": {
    "name": "ipython",
    "version": 3
   },
   "file_extension": ".py",
   "mimetype": "text/x-python",
   "name": "python",
   "nbconvert_exporter": "python",
   "pygments_lexer": "ipython3",
   "version": "3.11.11"
  }
 },
 "nbformat": 4,
 "nbformat_minor": 5
}

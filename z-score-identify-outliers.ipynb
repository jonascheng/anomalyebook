{
 "cells": [
  {
   "cell_type": "markdown",
   "id": "c682882f",
   "metadata": {},
   "source": [
    "# Outlier Detection Methods in Numeric Datasets\n",
    "\n",
    "This notebook demonstrates multiple methods for identifying outliers in a dataset using Z-score, IQR and DBSCAN."
   ]
  },
  {
   "cell_type": "markdown",
   "id": "08755b95",
   "metadata": {},
   "source": [
    "## 1. Import Required Libraries\n",
    "\n",
    "We will import NumPy, pandas, matplotlib, and scikit-learn libraries needed for data manipulation, visualization, and clustering."
   ]
  },
  {
   "cell_type": "code",
   "execution_count": null,
   "id": "cce1e4cc",
   "metadata": {},
   "outputs": [],
   "source": [
    "# Import Required Libraries\n",
    "import numpy as np\n",
    "import pandas as pd\n",
    "import matplotlib.pyplot as plt\n",
    "from sklearn.cluster import DBSCAN"
   ]
  },
  {
   "cell_type": "markdown",
   "id": "fced364a",
   "metadata": {},
   "source": [
    "## 2. Create Sample DataFrame\n",
    "\n",
    "Let's create a pandas DataFrame with invoice IDs and corresponding amounts to be used for outlier detection."
   ]
  },
  {
   "cell_type": "code",
   "execution_count": null,
   "id": "d6a98efb",
   "metadata": {},
   "outputs": [],
   "source": [
    "# Create the DataFrame\n",
    "data = {\n",
    "    'Invoice ID': [1, 2, 3, 4, 5, 6, 7, 8, 9, 10, 11, 12, 13, 14, 15, 16, 17, 18, 19, 20],\n",
    "    'Amount': [185, 188, 192, 191, 187, 190, 194, 195, 1, 189, 120, 450, 189, 190, 193, 191, 187, 188, 186, 189]\n",
    "}\n",
    "df = pd.DataFrame(data)\n",
    "df.head()"
   ]
  },
  {
   "cell_type": "markdown",
   "id": "eb3805e0",
   "metadata": {},
   "source": [
    "Let's visualize these data points for better understanding."
   ]
  },
  {
   "cell_type": "code",
   "execution_count": null,
   "id": "02fcb2b8",
   "metadata": {},
   "outputs": [],
   "source": [
    "# Create a scatter plot\n",
    "plt.figure(figsize=(10, 6))\n",
    "plt.scatter(df['Invoice ID'], df['Amount'])\n",
    "plt.title('Invoice Amounts')\n",
    "plt.xlabel('Invoice ID')\n",
    "plt.ylabel('Amount')\n",
    "plt.show()\n"
   ]
  },
  {
   "cell_type": "markdown",
   "id": "6f27a0d1",
   "metadata": {},
   "source": [
    "## 3. Identify Outliers Using Z-Score Method\n",
    "\n",
    "We will calculate the mean and standard deviation of the 'Amount' column, compute Z-scores, and flag data points as outliers based on a threshold.\n",
    "A z-score threshold is a value used to identify outliers in a dataset. Common thresholds are typically around ±2 or ±3 standard deviations from the mean. \n",
    "Values beyond these thresholds are considered unusual or potentially outliers. "
   ]
  },
  {
   "cell_type": "markdown",
   "id": "7a61c6ff",
   "metadata": {},
   "source": [
    "### What is the Z-Score Method?\n",
    "The Z-Score method is a statistical technique used to identify outliers in a dataset. It measures how many standard deviations a data point is from the mean. The Z-Score for a value $\\ x $ is calculated as:\n",
    "$$\n",
    "Z = \\frac{x - \\mu}{\\sigma}\n",
    "$$\n",
    "where:\n",
    "- $\\ x $ is the data point,\n",
    "- $\\ \\mu $ is the mean of the dataset,\n",
    "- $\\ \\sigma $ is the standard deviation.\n",
    "\n",
    "**When to use:**\n",
    "- The Z-Score method is best for data that is approximately normally distributed.\n",
    "- Common thresholds are ±2 or ±3; points beyond these are considered outliers.\n",
    "\n",
    "Let's apply the Z-Score method to our data."
   ]
  },
  {
   "cell_type": "code",
   "execution_count": null,
   "id": "9403df5f",
   "metadata": {},
   "outputs": [],
   "source": [
    "# Calculate the mean and standard deviation\n",
    "mean = np.mean(df['Amount'])\n",
    "std_dev = np.std(df['Amount'])\n",
    "\n",
    "# Calculate the Z-score for each data point\n",
    "df['Z-Score'] = (df['Amount'] - mean) / std_dev\n",
    "\n",
    "# Define a threshold for identifying outliers\n",
    "threshold = 2\n",
    "\n",
    "# Identify outliers\n",
    "df['Z-Score Outlier'] = np.abs(df['Z-Score']) > threshold\n",
    "\n",
    "# Display the results\n",
    "df[['Invoice ID', 'Amount', 'Z-Score', 'Z-Score Outlier']]"
   ]
  },
  {
   "cell_type": "markdown",
   "id": "bddf7b89",
   "metadata": {},
   "source": [
    "#### Interpreting Z-Score Results\n",
    "- Data points with a Z-Score greater than the threshold (e.g., |Z| > 2) are considered outliers.\n",
    "- In the table above, the 'Z-Score Outlier' column marks these points as True.\n",
    "- Outliers may indicate errors, rare events, or interesting anomalies depending on the context.\n",
    "\n",
    "Let's visualize these outliers for better understanding."
   ]
  },
  {
   "cell_type": "code",
   "execution_count": null,
   "id": "816ef863",
   "metadata": {},
   "outputs": [],
   "source": [
    "# Create a scatter plot, highlighting outliers\n",
    "plt.figure(figsize=(10, 6))\n",
    "# Color points: red for outliers, blue for normal\n",
    "colors = df['Z-Score Outlier'].map({True: 'red', False: 'blue'})\n",
    "plt.scatter(df['Invoice ID'], df['Amount'], c=colors, label='Data Points')\n",
    "plt.title('Invoice Amounts with Outliers Highlighted (Z-Score Method)')\n",
    "plt.xlabel('Invoice ID')\n",
    "plt.ylabel('Amount')\n",
    "plt.axhline(y=mean + threshold * std_dev, color='r', linestyle='--', label='Upper Threshold')\n",
    "plt.axhline(y=mean - threshold * std_dev, color='g', linestyle='--', label='Lower Threshold')\n",
    "plt.legend(['Data Points', 'Upper Threshold', 'Lower Threshold'])\n",
    "# Add annotation for outliers\n",
    "for i, row in df[df['Z-Score Outlier']].iterrows():\n",
    "    plt.annotate('Outlier', (row['Invoice ID'], row['Amount']), textcoords=\"offset points\", xytext=(0,10), ha='center', color='red')\n",
    "plt.show()"
   ]
  },
  {
   "cell_type": "markdown",
   "id": "909c81fb",
   "metadata": {},
   "source": [
    "## 4. Identify Outliers Using IQR Method\n",
    "\n",
    "We will compute the first and third quartiles (Q1, Q3), calculate the interquartile range (IQR), and identify outliers outside the lower and upper bounds."
   ]
  },
  {
   "cell_type": "markdown",
   "id": "3f8f42da",
   "metadata": {},
   "source": [
    "### What is the IQR Method?\n",
    "The Interquartile Range (IQR) method is a robust technique for detecting outliers based on the spread of the middle 50% of the data.\n",
    "\n",
    "- **Q1 (25th percentile):** The value below which 25% of the data fall.\n",
    "- **Q3 (75th percentile):** The value below which 75% of the data fall.\n",
    "- **IQR:** The difference between Q3 and Q1: $$ IQR = Q3 - Q1 $$\n",
    "- **Outlier bounds:**\n",
    "    - Lower bound: $$ Q1 - 1.5 \\times IQR $$\n",
    "    - Upper bound: $$ Q3 + 1.5 \\times IQR $$\n",
    "- Data points outside these bounds are considered outliers.\n",
    "\n",
    "**When to use:**\n",
    "- The IQR method is effective for skewed or non-normal data and is less sensitive to extreme values than the Z-Score method.\n",
    "\n",
    "Let's apply the IQR method to our data."
   ]
  },
  {
   "cell_type": "code",
   "execution_count": null,
   "id": "4ed99da8",
   "metadata": {},
   "outputs": [],
   "source": [
    "# Calculate Q1 (25th percentile) and Q3 (75th percentile)\n",
    "Q1 = df['Amount'].quantile(0.25)\n",
    "Q3 = df['Amount'].quantile(0.75)\n",
    "\n",
    "# Calculate the IQR\n",
    "IQR = Q3 - Q1\n",
    "\n",
    "# Define the lower and upper bounds\n",
    "lower_bound = Q1 - 1.5 * IQR\n",
    "upper_bound = Q3 + 1.5 * IQR\n",
    "\n",
    "# Identify outliers\n",
    "df['IQR Outlier'] = (df['Amount'] < lower_bound) | (df['Amount'] > upper_bound)\n",
    "\n",
    "# Display the results\n",
    "df[['Invoice ID', 'Amount', 'IQR Outlier']]"
   ]
  },
  {
   "cell_type": "markdown",
   "id": "61c98633",
   "metadata": {},
   "source": [
    "#### Interpreting IQR Results\n",
    "- Data points outside the lower and upper bounds are flagged as outliers in the 'IQR Outlier' column.\n",
    "- These outliers may represent rare events, errors, or interesting anomalies.\n",
    "\n",
    "Let's visualize the IQR outliers for better understanding."
   ]
  },
  {
   "cell_type": "code",
   "execution_count": null,
   "id": "031bb964",
   "metadata": {},
   "outputs": [],
   "source": [
    "# Create a scatter plot, highlighting outliers by IQR method\n",
    "plt.figure(figsize=(10, 6))\n",
    "# Color points: red for outliers, blue for normal\n",
    "colors = df['IQR Outlier'].map({True: 'red', False: 'blue'})\n",
    "plt.scatter(df['Invoice ID'], df['Amount'], c=colors, label='Data Points')\n",
    "plt.title('Invoice Amounts with Outliers Highlighted (IQR Method)')\n",
    "plt.xlabel('Invoice ID')\n",
    "plt.ylabel('Amount')\n",
    "plt.axhline(y=upper_bound, color='r', linestyle='--', label='Upper Bound')\n",
    "plt.axhline(y=lower_bound, color='g', linestyle='--', label='Lower Bound')\n",
    "plt.legend(['Data Points', 'Upper Bound', 'Lower Bound'])\n",
    "# Add annotation for outliers\n",
    "for i, row in df[df['IQR Outlier']].iterrows():\n",
    "    plt.annotate('Outlier', (row['Invoice ID'], row['Amount']), textcoords=\"offset points\", xytext=(0,10), ha='center', color='red')\n",
    "plt.show()"
   ]
  },
  {
   "cell_type": "markdown",
   "id": "e799a7fd",
   "metadata": {},
   "source": [
    "## 5. Identify Outliers Using DBSCAN\n",
    "\n",
    "We will apply the DBSCAN clustering algorithm to the 'Amount' data and label points as outliers based on the clustering results (DBSCAN labels outliers as -1)."
   ]
  },
  {
   "cell_type": "markdown",
   "id": "feba2ef3",
   "metadata": {},
   "source": [
    "### What is the DBSCAN Method?\n",
    "DBSCAN (Density-Based Spatial Clustering of Applications with Noise) is a clustering algorithm that groups together points that are closely packed and labels points that lie alone in low-density regions as outliers (noise).\n",
    "- **Key parameters:**\n",
    "    - `eps`: Maximum distance between two samples for them to be considered as in the same neighborhood.\n",
    "    - `min_samples`: Minimum number of samples in a neighborhood for a point to be considered a core point.\n",
    "- **How it works:**\n",
    "    - Points in dense regions form clusters.\n",
    "    - Points that do not belong to any cluster (labeled as -1) are considered outliers.\n",
    "\n",
    "**When to use:**\n",
    "- DBSCAN is useful for detecting outliers in data with clusters of similar density and does not require the data to be normally distributed.\n",
    "- It can find arbitrarily shaped clusters and is robust to noise.\n",
    "\n",
    "Let's apply DBSCAN to our data."
   ]
  },
  {
   "cell_type": "code",
   "execution_count": null,
   "id": "e65a0090",
   "metadata": {},
   "outputs": [],
   "source": [
    "# Reshape the 'Amount' column to be a 2D array\n",
    "X = df['Amount'].values.reshape(-1, 1)\n",
    "\n",
    "# Apply DBSCAN\n",
    "dbscan = DBSCAN(eps=10, min_samples=3)\n",
    "dbscan.fit(X)\n",
    "\n",
    "# Add the DBSCAN labels to the DataFrame\n",
    "df['DBSCAN_Label'] = dbscan.labels_\n",
    "\n",
    "# Identify outliers (DBSCAN labels outliers as -1)\n",
    "df['DBSCAN Outlier'] = df['DBSCAN_Label'] == -1\n",
    "\n",
    "# Display the results\n",
    "df[['Invoice ID', 'Amount', 'DBSCAN_Label', 'DBSCAN Outlier']]"
   ]
  },
  {
   "cell_type": "markdown",
   "id": "30fa6a26",
   "metadata": {},
   "source": [
    "#### Interpreting DBSCAN Results\n",
    "- Points labeled as -1 by DBSCAN are considered outliers (noise).\n",
    "- The 'DBSCAN Outlier' column in the table above marks these points as True.\n",
    "- DBSCAN is especially useful when the data contains clusters and noise, and does not assume any distribution.\n",
    "\n",
    "Let's visualize the DBSCAN outliers for better understanding."
   ]
  },
  {
   "cell_type": "code",
   "execution_count": null,
   "id": "56e15037",
   "metadata": {},
   "outputs": [],
   "source": [
    "# Create a scatter plot to visualize the outliers identified by DBSCAN.\n",
    "plt.figure(figsize=(10, 6))\n",
    "# Assign colors: outliers (-1) in red, clusters in blue/other colors\n",
    "colors = df['DBSCAN_Label'].map(lambda x: 'red' if x == -1 else 'blue')\n",
    "plt.scatter(df['Invoice ID'], df['Amount'], c=colors, label='Clustered Points')\n",
    "plt.title('DBSCAN Clustering of Invoice Amounts (Outliers in Red)')\n",
    "plt.xlabel('Invoice ID')\n",
    "plt.ylabel('Amount')\n",
    "# Annotate outliers\n",
    "for i, row in df[df['DBSCAN Outlier']].iterrows():\n",
    "    plt.annotate('Outlier', (row['Invoice ID'], row['Amount']), textcoords=\"offset points\", xytext=(0,10), ha='center', color='red')\n",
    "plt.legend(['Clustered Points'])\n",
    "plt.show()"
   ]
  },
  {
   "cell_type": "markdown",
   "id": "f26b25e7",
   "metadata": {},
   "source": [
    "## 8. Comparing Outlier Detection Methods\n",
    "- **Z-Score:** Best for normally distributed data; sensitive to extreme values.\n",
    "- **IQR:** Robust to skewed data and outliers; does not assume any distribution.\n",
    "- **DBSCAN:** Useful for clustered data and can detect noise/outliers without distribution assumptions.\n",
    "\n",
    "**Choosing a method:**\n",
    "- Use Z-Score for symmetric, bell-shaped data.\n",
    "- Use IQR for skewed or non-normal data.\n",
    "- Use DBSCAN when data may have clusters or you want to detect noise points.\n",
    "\n",
    "Always visualize and interpret outliers in the context of your domain before making decisions!"
   ]
  }
 ],
 "metadata": {
  "kernelspec": {
   "display_name": "Python 3 (ipykernel)",
   "language": "python",
   "name": "python3"
  },
  "language_info": {
   "codemirror_mode": {
    "name": "ipython",
    "version": 3
   },
   "file_extension": ".py",
   "mimetype": "text/x-python",
   "name": "python",
   "nbconvert_exporter": "python",
   "pygments_lexer": "ipython3",
   "version": "3.11.11"
  }
 },
 "nbformat": 4,
 "nbformat_minor": 5
}

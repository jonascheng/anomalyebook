{
 "cells": [
  {
   "cell_type": "markdown",
   "id": "c682882f",
   "metadata": {},
   "source": [
    "# Outlier Detection Methods in Python\n",
    "\n",
    "This notebook demonstrates multiple methods for identifying outliers in a dataset using Z-score, IQR, box plot visualization, and DBSCAN."
   ]
  },
  {
   "cell_type": "markdown",
   "id": "08755b95",
   "metadata": {},
   "source": [
    "## 1. Import Required Libraries\n",
    "\n",
    "We will import NumPy, pandas, matplotlib, and scikit-learn libraries needed for data manipulation, visualization, and clustering."
   ]
  },
  {
   "cell_type": "code",
   "execution_count": null,
   "id": "cce1e4cc",
   "metadata": {},
   "outputs": [],
   "source": [
    "# Import Required Libraries\n",
    "import numpy as np\n",
    "import pandas as pd\n",
    "import matplotlib.pyplot as plt\n",
    "from sklearn.cluster import DBSCAN"
   ]
  },
  {
   "cell_type": "markdown",
   "id": "fced364a",
   "metadata": {},
   "source": [
    "## 2. Create Sample DataFrame\n",
    "\n",
    "Let's create a pandas DataFrame with invoice IDs and corresponding amounts to be used for outlier detection."
   ]
  },
  {
   "cell_type": "code",
   "execution_count": null,
   "id": "d6a98efb",
   "metadata": {},
   "outputs": [],
   "source": [
    "# Create the DataFrame\n",
    "data = {\n",
    "    'Invoice ID': [1, 2, 3, 4, 5, 6, 7, 8, 9, 10, 11, 12, 13, 14, 15, 16, 17, 18, 19, 20],\n",
    "    'Amount': [185, 188, 192, 191, 187, 190, 194, 195, 1, 189, 120, 450, 189, 190, 193, 191, 187, 188, 186, 189]\n",
    "}\n",
    "df = pd.DataFrame(data)\n",
    "df.head()"
   ]
  },
  {
   "cell_type": "markdown",
   "id": "eb3805e0",
   "metadata": {},
   "source": [
    "### Visualization"
   ]
  },
  {
   "cell_type": "code",
   "execution_count": null,
   "id": "02fcb2b8",
   "metadata": {},
   "outputs": [],
   "source": [
    "# Create a scatter plot\n",
    "plt.figure(figsize=(10, 6))\n",
    "plt.scatter(df['Invoice ID'], df['Amount'])\n",
    "plt.title('Invoice Amounts')\n",
    "plt.xlabel('Invoice ID')\n",
    "plt.ylabel('Amount')\n",
    "plt.show()\n"
   ]
  },
  {
   "cell_type": "markdown",
   "id": "6f27a0d1",
   "metadata": {},
   "source": [
    "## 3. Identify Outliers Using Z-Score Method\n",
    "\n",
    "We will calculate the mean and standard deviation of the 'Amount' column, compute Z-scores, and flag data points as outliers based on a threshold.\n",
    "A z-score threshold is a value used to identify outliers in a dataset. Common thresholds are typically around ±2 or ±3 standard deviations from the mean. \n",
    "Values beyond these thresholds are considered unusual or potentially outliers. "
   ]
  },
  {
   "cell_type": "code",
   "execution_count": null,
   "id": "9403df5f",
   "metadata": {},
   "outputs": [],
   "source": [
    "# Calculate the mean and standard deviation\n",
    "mean = np.mean(df['Amount'])\n",
    "std_dev = np.std(df['Amount'])\n",
    "\n",
    "# Calculate the Z-score for each data point\n",
    "df['Z-Score'] = (df['Amount'] - mean) / std_dev\n",
    "\n",
    "# Define a threshold for identifying outliers\n",
    "threshold = 2\n",
    "\n",
    "# Identify outliers\n",
    "df['Z-Score Outlier'] = np.abs(df['Z-Score']) > threshold\n",
    "\n",
    "# Display the results\n",
    "df[['Invoice ID', 'Amount', 'Z-Score', 'Z-Score Outlier']]"
   ]
  },
  {
   "cell_type": "markdown",
   "id": "2a6f46da",
   "metadata": {},
   "source": [
    "### Visualization"
   ]
  },
  {
   "cell_type": "code",
   "execution_count": null,
   "id": "816ef863",
   "metadata": {},
   "outputs": [],
   "source": [
    "# Create a scatter plot, highlighting outliers\n",
    "plt.figure(figsize=(10, 6))\n",
    "plt.scatter(df['Invoice ID'], df['Amount'], c=df['Z-Score Outlier'], cmap='coolwarm', label='Data Points')\n",
    "plt.title('Invoice Amounts with Outliers Highlighted')\n",
    "plt.xlabel('Invoice ID')\n",
    "plt.ylabel('Amount')\n",
    "plt.axhline(y=mean + threshold * std_dev, color='r', linestyle='--', label='Upper Threshold')\n",
    "plt.axhline(y=mean - threshold * std_dev, color='g', linestyle='--', label='Lower Threshold')\n",
    "plt.legend()\n",
    "plt.show()"
   ]
  },
  {
   "cell_type": "markdown",
   "id": "909c81fb",
   "metadata": {},
   "source": [
    "## 4. Identify Outliers Using IQR Method\n",
    "\n",
    "We will compute the first and third quartiles (Q1, Q3), calculate the interquartile range (IQR), and identify outliers outside the lower and upper bounds."
   ]
  },
  {
   "cell_type": "code",
   "execution_count": null,
   "id": "4ed99da8",
   "metadata": {},
   "outputs": [],
   "source": [
    "# Calculate Q1 (25th percentile) and Q3 (75th percentile)\n",
    "Q1 = df['Amount'].quantile(0.25)\n",
    "Q3 = df['Amount'].quantile(0.75)\n",
    "\n",
    "# Calculate the IQR\n",
    "IQR = Q3 - Q1\n",
    "\n",
    "# Define the lower and upper bounds\n",
    "lower_bound = Q1 - 1.5 * IQR\n",
    "upper_bound = Q3 + 1.5 * IQR\n",
    "\n",
    "# Identify outliers\n",
    "df['IQR Outlier'] = (df['Amount'] < lower_bound) | (df['Amount'] > upper_bound)\n",
    "\n",
    "# Display the results\n",
    "df[['Invoice ID', 'Amount', 'IQR Outlier']]"
   ]
  },
  {
   "cell_type": "markdown",
   "id": "25bf2799",
   "metadata": {},
   "source": [
    "### Visualization"
   ]
  },
  {
   "cell_type": "code",
   "execution_count": null,
   "id": "031bb964",
   "metadata": {},
   "outputs": [],
   "source": [
    "# Create a scatter plot, highlighting outliers by IQR method\n",
    "plt.figure(figsize=(10, 6))\n",
    "plt.scatter(df['Invoice ID'], df['Amount'], c=df['IQR Outlier'], cmap='coolwarm', label='Data Points')\n",
    "plt.title('Invoice Amounts with Outliers Highlighted (IQR Method)')\n",
    "plt.xlabel('Invoice ID')\n",
    "plt.ylabel('Amount')\n",
    "plt.axhline(y=upper_bound, color='r', linestyle='--', label='Upper Bound')\n",
    "plt.axhline(y=lower_bound, color='g', linestyle='--', label='Lower Bound')\n",
    "plt.legend()\n",
    "plt.show()"
   ]
  },
  {
   "cell_type": "markdown",
   "id": "822a7607",
   "metadata": {},
   "source": [
    "### Visualize Outliers with Box Plot\n",
    "\n",
    "Let's plot a box plot of the 'Amount' column to visually inspect and highlight outliers."
   ]
  },
  {
   "cell_type": "code",
   "execution_count": null,
   "id": "b8c44ffa",
   "metadata": {},
   "outputs": [],
   "source": [
    "plt.figure(figsize=(10, 6))\n",
    "plt.boxplot(df['Amount'], vert=False)\n",
    "plt.xlabel('Amount')\n",
    "plt.title('Box Plot of Invoice Amounts')\n",
    "plt.show()"
   ]
  },
  {
   "cell_type": "markdown",
   "id": "e799a7fd",
   "metadata": {},
   "source": [
    "## 6. Identify Outliers Using DBSCAN\n",
    "\n",
    "We will apply the DBSCAN clustering algorithm to the 'Amount' data and label points as outliers based on the clustering results (DBSCAN labels outliers as -1)."
   ]
  },
  {
   "cell_type": "code",
   "execution_count": null,
   "id": "e65a0090",
   "metadata": {},
   "outputs": [],
   "source": [
    "# Reshape the 'Amount' column to be a 2D array\n",
    "X = df['Amount'].values.reshape(-1, 1)\n",
    "\n",
    "# Apply DBSCAN\n",
    "dbscan = DBSCAN(eps=10, min_samples=3)\n",
    "dbscan.fit(X)\n",
    "\n",
    "# Add the DBSCAN labels to the DataFrame\n",
    "df['DBSCAN_Label'] = dbscan.labels_\n",
    "\n",
    "# Identify outliers (DBSCAN labels outliers as -1)\n",
    "df['DBSCAN Outlier'] = df['DBSCAN_Label'] == -1\n",
    "\n",
    "# Display the results\n",
    "df[['Invoice ID', 'Amount', 'DBSCAN_Label', 'DBSCAN Outlier']]"
   ]
  },
  {
   "cell_type": "markdown",
   "id": "94887f96",
   "metadata": {},
   "source": [
    "### Visualization"
   ]
  },
  {
   "cell_type": "code",
   "execution_count": null,
   "id": "56e15037",
   "metadata": {},
   "outputs": [],
   "source": [
    "# Create a bubble chart to visualize the outliers identified by DBSCAN.\n",
    "# X: Labels, Y: Amounts, Size: DBSCAN labels\n",
    "plt.figure(figsize=(10, 6))\n",
    "plt.scatter(df['Invoice ID'], df['Amount'], c=df['DBSCAN_Label'], cmap='coolwarm')\n",
    "plt.title('DBSCAN Clustering of Invoice Amounts')\n",
    "plt.xlabel('Invoice ID')\n",
    "plt.ylabel('Amount')\n",
    "plt.colorbar(label='DBSCAN Label')\n",
    "plt.legend()\n",
    "plt.show()\n"
   ]
  }
 ],
 "metadata": {
  "kernelspec": {
   "display_name": "Python 3 (ipykernel)",
   "language": "python",
   "name": "python3"
  },
  "language_info": {
   "codemirror_mode": {
    "name": "ipython",
    "version": 3
   },
   "file_extension": ".py",
   "mimetype": "text/x-python",
   "name": "python",
   "nbconvert_exporter": "python",
   "pygments_lexer": "ipython3",
   "version": "3.11.11"
  }
 },
 "nbformat": 4,
 "nbformat_minor": 5
}
